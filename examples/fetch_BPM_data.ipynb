{
 "cells": [
  {
   "cell_type": "code",
   "execution_count": 1,
   "metadata": {},
   "outputs": [
    {
     "name": "stdout",
     "output_type": "stream",
     "text": [
      "0.3.0\n"
     ]
    }
   ],
   "source": [
    "import archappl\n",
    "print(archappl.__version__)\n",
    "from archappl.contrib import get_dataset\n",
    "from phantasy import MachinePortal\n",
    "from phantasy import disable_warnings\n",
    "from datetime import datetime\n",
    "import matplotlib.pyplot as plt\n",
    "disable_warnings()"
   ]
  },
  {
   "cell_type": "code",
   "execution_count": 2,
   "metadata": {},
   "outputs": [],
   "source": [
    "mp = MachinePortal(\"FRIB\", \"LINAC\")\n",
    "bpms = mp.get_elements(type=\"BPM\")"
   ]
  },
  {
   "cell_type": "markdown",
   "metadata": {},
   "source": [
    "# 174 MeV/u, Xe, 2020-10-09"
   ]
  },
  {
   "cell_type": "markdown",
   "metadata": {},
   "source": [
    "## 12:00 - 14:35"
   ]
  },
  {
   "cell_type": "code",
   "execution_count": 3,
   "metadata": {},
   "outputs": [],
   "source": [
    "ts_from = \"2020-10-09T12:15:00.000000-04:00\"\n",
    "ts_to = \"2020-10-09T14:35:00.000000-04:00\"\n",
    "field_list = ['X', 'Y', 'PHA']"
   ]
  },
  {
   "cell_type": "code",
   "execution_count": 4,
   "metadata": {},
   "outputs": [
    {
     "name": "stdout",
     "output_type": "stream",
     "text": [
      "Fetched data of FE_MEBT:BPM_D1056[X].\n",
      "Fetched data of FE_MEBT:BPM_D1056[Y].\n",
      "Fetched data of FE_MEBT:BPM_D1056[PHA].\n",
      "Fetched data of FE_MEBT:BPM_D1072[X].\n",
      "Fetched data of FE_MEBT:BPM_D1072[Y].\n",
      "Fetched data of FE_MEBT:BPM_D1072[PHA].\n",
      "Fetched data of FE_MEBT:BPM_D1094[X].\n",
      "Fetched data of FE_MEBT:BPM_D1094[Y].\n",
      "Fetched data of FE_MEBT:BPM_D1094[PHA].\n",
      "Fetched data of FE_MEBT:BPM_D1111[X].\n",
      "Fetched data of FE_MEBT:BPM_D1111[Y].\n",
      "Fetched data of FE_MEBT:BPM_D1111[PHA].\n",
      "Fetched data of LS1_CA01:BPM_D1129[X].\n",
      "Fetched data of LS1_CA01:BPM_D1129[Y].\n",
      "Fetched data of LS1_CA01:BPM_D1129[PHA].\n",
      "Fetched data of LS1_CA01:BPM_D1144[X].\n",
      "Fetched data of LS1_CA01:BPM_D1144[Y].\n",
      "Fetched data of LS1_CA01:BPM_D1144[PHA].\n",
      "Fetched data of LS1_WA01:BPM_D1155[X].\n",
      "Fetched data of LS1_WA01:BPM_D1155[Y].\n",
      "Fetched data of LS1_WA01:BPM_D1155[PHA].\n",
      "Fetched data of LS1_CA02:BPM_D1163[X].\n",
      "Fetched data of LS1_CA02:BPM_D1163[Y].\n",
      "Fetched data of LS1_CA02:BPM_D1163[PHA].\n",
      "Fetched data of LS1_CA02:BPM_D1177[X].\n",
      "Fetched data of LS1_CA02:BPM_D1177[Y].\n",
      "Fetched data of LS1_CA02:BPM_D1177[PHA].\n",
      "Fetched data of LS1_WA02:BPM_D1188[X].\n",
      "Fetched data of LS1_WA02:BPM_D1188[Y].\n",
      "Fetched data of LS1_WA02:BPM_D1188[PHA].\n",
      "Data fetching is done, cost 4.411017417907715 seconds.\n"
     ]
    }
   ],
   "source": [
    "data = get_dataset(bpms[0:10], field_list, ts_from, ts_to, resample=\"1S\", echo=True)"
   ]
  },
  {
   "cell_type": "code",
   "execution_count": 6,
   "metadata": {},
   "outputs": [],
   "source": [
    "def save_dataset(data, time_from, time_to):\n",
    "    filename = \"174MeV_2020-10-09_{0}-{1}_Xe.csv\".format(time_from.replace(':', ''), time_to.replace(':', ''))\n",
    "    data[f'2020-10-09 {time_from}:00-04:00':f'2020-10-09 {time_to}:00-04:00'].to_csv(filename)"
   ]
  },
  {
   "cell_type": "code",
   "execution_count": 7,
   "metadata": {},
   "outputs": [],
   "source": [
    "#save_dataset(data, '12:15', '12:20')\n",
    "#save_dataset(data, '12:25', '12:30')\n",
    "#save_dataset(data, '12:55', '13:00')\n",
    "#save_dataset(data, '13:05', '13:10')\n",
    "#save_dataset(data, '13:45', '13:50')\n",
    "#save_dataset(data, '14:05', '14:10')\n",
    "#save_dataset(data, '14:30', '14:35')"
   ]
  },
  {
   "cell_type": "code",
   "execution_count": 8,
   "metadata": {},
   "outputs": [],
   "source": [
    "save_dataset(data, '12:15', '14:35')"
   ]
  }
 ],
 "metadata": {
  "kernelspec": {
   "display_name": "Python 3",
   "language": "python",
   "name": "python3"
  },
  "language_info": {
   "codemirror_mode": {
    "name": "ipython",
    "version": 3
   },
   "file_extension": ".py",
   "mimetype": "text/x-python",
   "name": "python",
   "nbconvert_exporter": "python",
   "pygments_lexer": "ipython3",
   "version": "3.7.3"
  }
 },
 "nbformat": 4,
 "nbformat_minor": 2
}
