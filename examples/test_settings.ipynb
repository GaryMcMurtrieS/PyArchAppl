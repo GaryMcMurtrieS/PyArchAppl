{
 "cells": [
  {
   "cell_type": "code",
   "execution_count": 1,
   "metadata": {},
   "outputs": [
    {
     "name": "stderr",
     "output_type": "stream",
     "text": [
      "WARNING: 2019-06-18 15:57:22,214: phantasy.library.scan: Package 'scanclient' does not exit, some features may not be available.\n"
     ]
    }
   ],
   "source": [
    "from archappl.client import ArchiverDataClient\n",
    "from archappl.data import epoch_to_iso, iso_to_epoch\n",
    "from phantasy import MachinePortal\n",
    "import numpy as np"
   ]
  },
  {
   "cell_type": "code",
   "execution_count": 2,
   "metadata": {},
   "outputs": [
    {
     "name": "stderr",
     "output_type": "stream",
     "text": [
      "WARNING: 2019-06-18 15:57:23,828: phantasy.library.operation.core: Load new machine: FRIB segment: LEBT\n",
      "INFO: 2019-06-18 15:57:23,829: phantasy.library.parser.config: Searching configuration in relative or absolute path: 'FRIB'\n",
      "INFO: 2019-06-18 15:57:23,830: phantasy.library.parser.config: Searching configuration under path: '/user/zhangt/test_phantasy/phantasy-machines' 'FRIB'\n",
      "INFO: 2019-06-18 15:57:23,832: phantasy.library.parser.config: Importing 'FRIB' from '/user/zhangt/test_phantasy/phantasy-machines/FRIB'\n",
      "INFO: 2019-06-18 15:57:23,837: phantasy.library.parser.config: Using config file: phantasy.ini\n",
      "INFO: 2019-06-18 15:57:23,924: phantasy.library.operation.lattice: Using CSV/SQLite instead of CFS '/user/zhangt/test_phantasy/phantasy-machines/FRIB/./linac/all_channels.csv'\n",
      "INFO: 2019-06-18 15:57:23,925: phantasy.library.pv.datasource: Set source to be CSV table: all_channels.csv.\n",
      "INFO: 2019-06-18 15:57:24,082: phantasy.library.operation.lattice: Model data directory: /user/zhangt/phantasy_data/20190618/model_data/data_155724\n",
      "INFO: 2019-06-18 15:57:24,086: phantasy.library.operation.lattice: Found 981 PVs in LEBT.\n",
      "INFO: 2019-06-18 15:57:24,579: phantasy.library.operation.lattice: 'LEBT' has 82 elements\n"
     ]
    }
   ],
   "source": [
    "mp = MachinePortal(\"FRIB\", \"LEBT\")\n",
    "lat = mp.work_lattice_conf\n",
    "\n",
    "valid_dtypes = ('SOL', 'VCOR', 'HCOR', 'EQUAD',)"
   ]
  },
  {
   "cell_type": "code",
   "execution_count": 5,
   "metadata": {
    "collapsed": true
   },
   "outputs": [],
   "source": [
    "s = {}\n",
    "for elem in lat:\n",
    "    if elem.family in valid_dtypes:\n",
    "        f = elem.get_eng_fields()[0]\n",
    "        sp_pvs = elem.pv(handle='setpoint', field=f)\n",
    "        s.update({k:100 * np.random.random() + 1 for k in sp_pvs})"
   ]
  },
  {
   "cell_type": "code",
   "execution_count": 6,
   "metadata": {
    "collapsed": true
   },
   "outputs": [],
   "source": [
    "quad = lat.get_elements(type='EQUAD')[0]\n",
    "sol = lat.get_elements(type='SOL')[0]"
   ]
  },
  {
   "cell_type": "code",
   "execution_count": 7,
   "metadata": {},
   "outputs": [
    {
     "name": "stdout",
     "output_type": "stream",
     "text": [
      "-4.34442050725238\n",
      "84.06813891342094\n"
     ]
    }
   ],
   "source": [
    "print(quad.get_settings('V', s))\n",
    "print(sol.get_settings('I', s))"
   ]
  },
  {
   "cell_type": "markdown",
   "metadata": {},
   "source": [
    "### Read settings from snp file"
   ]
  },
  {
   "cell_type": "code",
   "execution_count": 24,
   "metadata": {
    "collapsed": true
   },
   "outputs": [],
   "source": [
    "snpfile = '/home/tong/Dropbox/FRIB/work/phantasy-project/phantasy-apps/phantasy_apps/settings_manager/testdata/Ar_LEBT_to_MEBT_20180321.snp'"
   ]
  },
  {
   "cell_type": "code",
   "execution_count": 25,
   "metadata": {
    "collapsed": true
   },
   "outputs": [],
   "source": [
    "from phantasy import generate_settings\n",
    "from phantasy import snp2dict"
   ]
  },
  {
   "cell_type": "code",
   "execution_count": 8,
   "metadata": {
    "collapsed": true
   },
   "outputs": [],
   "source": [
    "settings = generate_settings(snpfile, lat, only_physics=False)"
   ]
  },
  {
   "cell_type": "code",
   "execution_count": 9,
   "metadata": {
    "collapsed": true
   },
   "outputs": [],
   "source": [
    "settings.write('/tmp/settings2.json')"
   ]
  },
  {
   "cell_type": "code",
   "execution_count": 10,
   "metadata": {
    "collapsed": true
   },
   "outputs": [],
   "source": [
    "from phantasy import get_element_settings"
   ]
  },
  {
   "cell_type": "code",
   "execution_count": 16,
   "metadata": {},
   "outputs": [
    {
     "data": {
      "text/plain": [
       "{'B': -0.027918183210821942, 'I': 9.660271007204823}"
      ]
     },
     "execution_count": 16,
     "metadata": {},
     "output_type": "execute_result"
    }
   ],
   "source": [
    "get_element_settings(s, sol, only_physics=False)"
   ]
  },
  {
   "cell_type": "code",
   "execution_count": 17,
   "metadata": {
    "collapsed": true
   },
   "outputs": [],
   "source": [
    "settings_dict = snp2dict(snpfile=snpfile)"
   ]
  },
  {
   "cell_type": "code",
   "execution_count": 13,
   "metadata": {},
   "outputs": [
    {
     "data": {
      "text/plain": [
       "3072.0"
      ]
     },
     "execution_count": 13,
     "metadata": {},
     "output_type": "execute_result"
    }
   ],
   "source": [
    "quad.get_settings('V', settings_dict)"
   ]
  },
  {
   "cell_type": "code",
   "execution_count": 14,
   "metadata": {},
   "outputs": [
    {
     "data": {
      "text/plain": [
       "3072.0"
      ]
     },
     "execution_count": 14,
     "metadata": {},
     "output_type": "execute_result"
    }
   ],
   "source": [
    "quad.get_settings('V', settings_dict)"
   ]
  },
  {
   "cell_type": "code",
   "execution_count": 18,
   "metadata": {},
   "outputs": [
    {
     "data": {
      "text/plain": [
       "{'V': 2.4933180597827516}"
      ]
     },
     "execution_count": 18,
     "metadata": {},
     "output_type": "execute_result"
    }
   ],
   "source": [
    "get_element_settings(s, quad, only_physics=False)"
   ]
  },
  {
   "cell_type": "markdown",
   "metadata": {},
   "source": [
    "### Read settings from AA"
   ]
  },
  {
   "cell_type": "code",
   "execution_count": 8,
   "metadata": {
    "collapsed": true
   },
   "outputs": [],
   "source": [
    "pv_set = set()\n",
    "for elem in lat:\n",
    "    if elem.family in valid_dtypes:\n",
    "        pv_set.update(elem.pv(handle='setpoint'))"
   ]
  },
  {
   "cell_type": "code",
   "execution_count": 9,
   "metadata": {
    "collapsed": true
   },
   "outputs": [],
   "source": [
    "client = ArchiverDataClient()\n",
    "client.url = \"http://epicsarchiver0.ftc:17668\""
   ]
  },
  {
   "cell_type": "code",
   "execution_count": 13,
   "metadata": {},
   "outputs": [],
   "source": [
    "ts_iso = \"2019-03-05T13:04:08.120000-05:00\"\n",
    "r = client.get_data_at_time(list(pv_set), ts=ts_iso)"
   ]
  },
  {
   "cell_type": "code",
   "execution_count": 15,
   "metadata": {},
   "outputs": [
    {
     "data": {
      "text/plain": [
       "{}"
      ]
     },
     "execution_count": 15,
     "metadata": {},
     "output_type": "execute_result"
    }
   ],
   "source": [
    "r"
   ]
  },
  {
   "cell_type": "code",
   "execution_count": 16,
   "metadata": {},
   "outputs": [
    {
     "data": {
      "text/plain": [
       "{'FE_LEBT:PSC1_D0773:I_CSET',\n",
       " 'FE_LEBT:PSC1_D0790:I_CSET',\n",
       " 'FE_LEBT:PSC1_D0805:I_CSET',\n",
       " 'FE_LEBT:PSC1_D0821:I_CSET',\n",
       " 'FE_LEBT:PSC1_D0840:I_CSET',\n",
       " 'FE_LEBT:PSC1_D0868:I_CSET',\n",
       " 'FE_LEBT:PSC1_D0880:I_CSET',\n",
       " 'FE_LEBT:PSC1_D0901:I_CSET',\n",
       " 'FE_LEBT:PSC1_D0929:I_CSET',\n",
       " 'FE_LEBT:PSC1_D0948:I_CSET',\n",
       " 'FE_LEBT:PSC1_D0964:I_CSET',\n",
       " 'FE_LEBT:PSC1_D0979:I_CSET',\n",
       " 'FE_LEBT:PSC1_D0992:I_CSET',\n",
       " 'FE_LEBT:PSC2_D0773:I_CSET',\n",
       " 'FE_LEBT:PSC2_D0790:I_CSET',\n",
       " 'FE_LEBT:PSC2_D0805:I_CSET',\n",
       " 'FE_LEBT:PSC2_D0821:I_CSET',\n",
       " 'FE_LEBT:PSC2_D0840:I_CSET',\n",
       " 'FE_LEBT:PSC2_D0868:I_CSET',\n",
       " 'FE_LEBT:PSC2_D0880:I_CSET',\n",
       " 'FE_LEBT:PSC2_D0901:I_CSET',\n",
       " 'FE_LEBT:PSC2_D0929:I_CSET',\n",
       " 'FE_LEBT:PSC2_D0948:I_CSET',\n",
       " 'FE_LEBT:PSC2_D0964:I_CSET',\n",
       " 'FE_LEBT:PSC2_D0979:I_CSET',\n",
       " 'FE_LEBT:PSC2_D0992:I_CSET',\n",
       " 'FE_LEBT:PSOL_D0787:I_CSET',\n",
       " 'FE_LEBT:PSOL_D0802:I_CSET',\n",
       " 'FE_LEBT:PSOL_D0818:I_CSET',\n",
       " 'FE_LEBT:PSOL_D0951:I_CSET',\n",
       " 'FE_LEBT:PSOL_D0967:I_CSET',\n",
       " 'FE_LEBT:PSOL_D0982:I_CSET',\n",
       " 'FE_LEBT:PSOL_D0995:I_CSET',\n",
       " 'FE_LEBT:PSQ1_D0767:V_CSET',\n",
       " 'FE_LEBT:PSQ1_D0770:V_CSET',\n",
       " 'FE_LEBT:PSQ1_D0776:V_CSET',\n",
       " 'FE_LEBT:PSQ1_D0780:V_CSET',\n",
       " 'FE_LEBT:PSQ1_D0844:V_CSET',\n",
       " 'FE_LEBT:PSQ1_D0848:V_CSET',\n",
       " 'FE_LEBT:PSQ1_D0851:V_CSET',\n",
       " 'FE_LEBT:PSQ1_D0871:V_CSET',\n",
       " 'FE_LEBT:PSQ1_D0874:V_CSET',\n",
       " 'FE_LEBT:PSQ1_D0878:V_CSET',\n",
       " 'FE_LEBT:PSQ1_D0891:V_CSET',\n",
       " 'FE_LEBT:PSQ1_D0895:V_CSET',\n",
       " 'FE_LEBT:PSQ1_D0898:V_CSET',\n",
       " 'FE_LEBT:PSQ1_D0918:V_CSET',\n",
       " 'FE_LEBT:PSQ1_D0921:V_CSET',\n",
       " 'FE_LEBT:PSQ1_D0924:V_CSET',\n",
       " 'FE_LEBT:PSQ2_D0767:V_CSET',\n",
       " 'FE_LEBT:PSQ2_D0770:V_CSET',\n",
       " 'FE_LEBT:PSQ2_D0776:V_CSET',\n",
       " 'FE_LEBT:PSQ2_D0780:V_CSET',\n",
       " 'FE_LEBT:PSQ2_D0844:V_CSET',\n",
       " 'FE_LEBT:PSQ2_D0848:V_CSET',\n",
       " 'FE_LEBT:PSQ2_D0851:V_CSET',\n",
       " 'FE_LEBT:PSQ2_D0871:V_CSET',\n",
       " 'FE_LEBT:PSQ2_D0874:V_CSET',\n",
       " 'FE_LEBT:PSQ2_D0878:V_CSET',\n",
       " 'FE_LEBT:PSQ2_D0891:V_CSET',\n",
       " 'FE_LEBT:PSQ2_D0895:V_CSET',\n",
       " 'FE_LEBT:PSQ2_D0898:V_CSET',\n",
       " 'FE_LEBT:PSQ2_D0918:V_CSET',\n",
       " 'FE_LEBT:PSQ2_D0921:V_CSET',\n",
       " 'FE_LEBT:PSQ2_D0924:V_CSET',\n",
       " 'FE_SCS1:PSC1_D0709:I_CSET',\n",
       " 'FE_SCS1:PSC1_D0723:I_CSET',\n",
       " 'FE_SCS1:PSC2_D0709:I_CSET',\n",
       " 'FE_SCS1:PSC2_D0723:I_CSET',\n",
       " 'FE_SCS1:PSOL_D0704:I_CSET',\n",
       " 'FE_SCS1:PSQ1_D0726:V_CSET',\n",
       " 'FE_SCS1:PSQ1_D0730:V_CSET',\n",
       " 'FE_SCS1:PSQ1_D0733:V_CSET',\n",
       " 'FE_SCS1:PSQ1_D0743:V_CSET',\n",
       " 'FE_SCS1:PSQ1_D0746:V_CSET',\n",
       " 'FE_SCS1:PSQ1_D0749:V_CSET',\n",
       " 'FE_SCS1:PSQ2_D0726:V_CSET',\n",
       " 'FE_SCS1:PSQ2_D0730:V_CSET',\n",
       " 'FE_SCS1:PSQ2_D0733:V_CSET',\n",
       " 'FE_SCS1:PSQ2_D0743:V_CSET',\n",
       " 'FE_SCS1:PSQ2_D0746:V_CSET',\n",
       " 'FE_SCS1:PSQ2_D0749:V_CSET'}"
      ]
     },
     "execution_count": 16,
     "metadata": {},
     "output_type": "execute_result"
    }
   ],
   "source": [
    "pv_set"
   ]
  },
  {
   "cell_type": "code",
   "execution_count": null,
   "metadata": {
    "collapsed": true
   },
   "outputs": [],
   "source": []
  }
 ],
 "metadata": {
  "kernelspec": {
   "display_name": "Python 3",
   "language": "python",
   "name": "python3"
  },
  "language_info": {
   "codemirror_mode": {
    "name": "ipython",
    "version": 3
   },
   "file_extension": ".py",
   "mimetype": "text/x-python",
   "name": "python",
   "nbconvert_exporter": "python",
   "pygments_lexer": "ipython3",
   "version": "3.7.3"
  }
 },
 "nbformat": 4,
 "nbformat_minor": 2
}
