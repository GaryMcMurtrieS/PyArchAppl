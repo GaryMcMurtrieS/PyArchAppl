{
 "cells": [
  {
   "cell_type": "code",
   "execution_count": 1,
   "metadata": {},
   "outputs": [],
   "source": [
    "import tables"
   ]
  },
  {
   "cell_type": "code",
   "execution_count": 2,
   "metadata": {},
   "outputs": [
    {
     "data": {
      "text/plain": [
       "'3.6.1'"
      ]
     },
     "execution_count": 2,
     "metadata": {},
     "output_type": "execute_result"
    }
   ],
   "source": [
    "tables.__version__"
   ]
  },
  {
   "cell_type": "code",
   "execution_count": 3,
   "metadata": {},
   "outputs": [],
   "source": [
    "h5file = tables.open_file('data.h5', mode='r')"
   ]
  },
  {
   "cell_type": "code",
   "execution_count": 5,
   "metadata": {},
   "outputs": [
    {
     "data": {
      "text/plain": [
       "'data.h5'"
      ]
     },
     "execution_count": 5,
     "metadata": {},
     "output_type": "execute_result"
    }
   ],
   "source": [
    "h5file.filename"
   ]
  },
  {
   "cell_type": "code",
   "execution_count": 6,
   "metadata": {},
   "outputs": [
    {
     "data": {
      "text/plain": [
       "{'BOUNDS_MAX_SIZE': 1048576,\n",
       " 'BOUNDS_MAX_SLOTS': 4096,\n",
       " 'ITERSEQ_MAX_ELEMENTS': 1024,\n",
       " 'ITERSEQ_MAX_SIZE': 1048576,\n",
       " 'ITERSEQ_MAX_SLOTS': 128,\n",
       " 'LIMBOUNDS_MAX_SIZE': 262144,\n",
       " 'LIMBOUNDS_MAX_SLOTS': 128,\n",
       " 'TABLE_MAX_SIZE': 1048576,\n",
       " 'SORTED_MAX_SIZE': 1048576,\n",
       " 'SORTEDLR_MAX_SIZE': 8388608,\n",
       " 'SORTEDLR_MAX_SLOTS': 1024,\n",
       " 'DISABLE_EVERY_CYCLES': 10,\n",
       " 'ENABLE_EVERY_CYCLES': 50,\n",
       " 'LOWEST_HIT_RATIO': 0.6,\n",
       " 'MAX_COLUMNS': 512,\n",
       " 'MAX_NODE_ATTRS': 4096,\n",
       " 'MAX_GROUP_WIDTH': 16384,\n",
       " 'MAX_TREE_DEPTH': 2048,\n",
       " 'MAX_UNDO_PATH_LENGTH': 10240,\n",
       " 'COND_CACHE_SLOTS': 128,\n",
       " 'CHUNK_CACHE_NELMTS': 521,\n",
       " 'CHUNK_CACHE_PREEMPT': 0.0,\n",
       " 'CHUNK_CACHE_SIZE': 2097152,\n",
       " 'METADATA_CACHE_SIZE': 1048576,\n",
       " 'NODE_CACHE_SLOTS': 64,\n",
       " 'IO_BUFFER_SIZE': 1048576,\n",
       " 'BUFFER_TIMES': 100,\n",
       " 'EXPECTED_ROWS_EARRAY': 1000,\n",
       " 'EXPECTED_ROWS_VLARRAY': 1000,\n",
       " 'EXPECTED_ROWS_TABLE': 10000,\n",
       " 'PYTABLES_SYS_ATTRS': True,\n",
       " 'MAX_NUMEXPR_THREADS': 4,\n",
       " 'MAX_BLOSC_THREADS': 1,\n",
       " 'USER_BLOCK_SIZE': 0,\n",
       " 'ALLOW_PADDING': True,\n",
       " 'DRIVER': None,\n",
       " 'DRIVER_DIRECT_ALIGNMENT': 0,\n",
       " 'DRIVER_DIRECT_BLOCK_SIZE': 0,\n",
       " 'DRIVER_DIRECT_CBUF_SIZE': 0,\n",
       " 'DRIVER_CORE_INCREMENT': 65536,\n",
       " 'DRIVER_CORE_BACKING_STORE': 1,\n",
       " 'DRIVER_CORE_IMAGE': None,\n",
       " 'DRIVER_SPLIT_META_EXT': '-m.h5',\n",
       " 'DRIVER_SPLIT_RAW_EXT': '-r.h5'}"
      ]
     },
     "execution_count": 6,
     "metadata": {},
     "output_type": "execute_result"
    }
   ],
   "source": [
    "h5file.params"
   ]
  },
  {
   "cell_type": "code",
   "execution_count": 9,
   "metadata": {},
   "outputs": [
    {
     "name": "stdout",
     "output_type": "stream",
     "text": [
      "/ (RootGroup) ''\n",
      "/root:calc1 (Group) ''\n"
     ]
    }
   ],
   "source": [
    "for i in h5file.walk_groups():\n",
    "    print(i)"
   ]
  },
  {
   "cell_type": "code",
   "execution_count": 12,
   "metadata": {},
   "outputs": [
    {
     "name": "stdout",
     "output_type": "stream",
     "text": [
      "/ (RootGroup) ''\n",
      "/root:calc1 (Group) ''\n",
      "/root:calc1/table (Table(3601,)) ''\n"
     ]
    }
   ],
   "source": [
    "for i in h5file.walk_nodes():\n",
    "    print(i)"
   ]
  },
  {
   "cell_type": "code",
   "execution_count": null,
   "metadata": {},
   "outputs": [],
   "source": []
  }
 ],
 "metadata": {
  "kernelspec": {
   "display_name": "Python 3",
   "language": "python",
   "name": "python3"
  },
  "language_info": {
   "codemirror_mode": {
    "name": "ipython",
    "version": 3
   },
   "file_extension": ".py",
   "mimetype": "text/x-python",
   "name": "python",
   "nbconvert_exporter": "python",
   "pygments_lexer": "ipython3",
   "version": "3.8.2"
  }
 },
 "nbformat": 4,
 "nbformat_minor": 4
}
