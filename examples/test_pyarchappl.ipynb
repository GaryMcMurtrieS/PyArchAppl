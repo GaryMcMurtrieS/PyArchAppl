{
 "cells": [
  {
   "cell_type": "code",
   "execution_count": 1,
   "metadata": {},
   "outputs": [],
   "source": [
    "from archappl.client import ArchiverDataClient\n",
    "from phantasy import MachinePortal\n",
    "from datetime import datetime\n",
    "%matplotlib notebook"
   ]
  },
  {
   "cell_type": "code",
   "execution_count": 3,
   "metadata": {},
   "outputs": [
    {
     "name": "stderr",
     "output_type": "stream",
     "text": [
      "[09:30:03.426] INFO: phantasy.library.operation.core: Load new machine: 'FRIB', segment: 'MEBT_FS1A'\n",
      "[09:30:03.427] INFO: phantasy.library.parser.config: Importing FRIB from /user/zhangt/test_phantasy/phantasy-machines/FRIB\n",
      "[09:30:03.429] INFO: phantasy.library.parser.config: Loading machine configuration from /user/zhangt/test_phantasy/phantasy-machines/FRIB/phantasy.ini\n",
      "[09:30:03.430] INFO: phantasy.library.operation.lattice: Loading segment: 'MEBT_FS1A'\n",
      "[09:30:03.519] INFO: phantasy.library.operation.lattice: UNICORN policy will be loaded from /user/zhangt/test_phantasy/phantasy-machines/unicorn/unicorn-data.xlsx.\n",
      "[09:30:03.521] INFO: phantasy.library.operation.lattice: Device polarity data is loaded from /user/zhangt/test_phantasy/phantasy-machines/polarity/polarity_data.csv.\n",
      "[09:30:03.526] INFO: phantasy.library.operation.lattice: Loading PV data from CSV/SQLite: /user/zhangt/test_phantasy/phantasy-machines/FRIB/linac/all_channels.csv\n",
      "[09:30:03.527] INFO: phantasy.library.pv.datasource: Set source to be CSV table: all_channels.csv.\n",
      "[09:30:03.725] INFO: phantasy.library.operation.lattice: Model data directory: /user/zhangt/phantasy_data/20201110/model_data/data_093003\n",
      "[09:30:03.732] INFO: phantasy.library.operation.lattice: Found 2207 PVs in 'MEBT_FS1A'.\n",
      "[09:30:04.309] INFO: phantasy.library.operation.lattice: 'MEBT_FS1A' has 414 elements\n"
     ]
    }
   ],
   "source": [
    "mp = MachinePortal(\"FRIB\", \"MEBT_FS1A\")\n",
    "bpms = mp.get_elements(type=\"BPM\")\n",
    "client = ArchiverDataClient()\n",
    "client.url = \"http://epicsarchiver0.ftc:17668\""
   ]
  },
  {
   "cell_type": "code",
   "execution_count": 4,
   "metadata": {},
   "outputs": [],
   "source": [
    "pvs_x = [i.pv('X', handle='readback')[0] for i in bpms]\n",
    "pvs_y = [i.pv('Y', handle='readback')[0] for i in bpms]"
   ]
  },
  {
   "cell_type": "code",
   "execution_count": 5,
   "metadata": {},
   "outputs": [],
   "source": [
    "ts0 = \"2019-03-05T13:04:08.120000\"\n",
    "dt = datetime.strptime(ts0, \"%Y-%m-%dT%H:%M:%S.%f\")"
   ]
  },
  {
   "cell_type": "code",
   "execution_count": 6,
   "metadata": {},
   "outputs": [],
   "source": [
    "ts0_epoch = dt.timestamp()"
   ]
  },
  {
   "cell_type": "code",
   "execution_count": 7,
   "metadata": {},
   "outputs": [],
   "source": [
    "_ts0 = datetime.fromtimestamp(ts0_epoch).isoformat() + \"-05:00\""
   ]
  },
  {
   "cell_type": "code",
   "execution_count": 8,
   "metadata": {},
   "outputs": [
    {
     "name": "stdout",
     "output_type": "stream",
     "text": [
      "2019-03-05T13:04:08.120000-05:00\n"
     ]
    }
   ],
   "source": [
    "print(_ts0)"
   ]
  },
  {
   "cell_type": "code",
   "execution_count": 9,
   "metadata": {},
   "outputs": [],
   "source": [
    "r = client.get_data_at_time([pvs_x[0]], ts=_ts0)"
   ]
  },
  {
   "cell_type": "code",
   "execution_count": 10,
   "metadata": {},
   "outputs": [
    {
     "data": {
      "text/plain": [
       "{'FE_MEBT:BPM_D1056:XPOS_RD': {'severity': 0,\n",
       "  'val': -0.944449345999152,\n",
       "  'nanos': 4464964,\n",
       "  'secs': 1551809048,\n",
       "  'status': 0}}"
      ]
     },
     "execution_count": 10,
     "metadata": {},
     "output_type": "execute_result"
    }
   ],
   "source": [
    "r"
   ]
  },
  {
   "cell_type": "code",
   "execution_count": 11,
   "metadata": {},
   "outputs": [
    {
     "data": {
      "text/plain": [
       "[Data Client] Archiver Appliance on: http://epicsarchiver0.ftc:17668/retrieval/data/getData.json"
      ]
     },
     "execution_count": 11,
     "metadata": {},
     "output_type": "execute_result"
    }
   ],
   "source": [
    "client"
   ]
  },
  {
   "cell_type": "code",
   "execution_count": 58,
   "metadata": {},
   "outputs": [],
   "source": [
    "data = client.get_data('FE_LEBT:PSC2_D0773:I_CSET',\n",
    "                       ts_from='2019-03-01T13:04:08.120000-05:00',\n",
    "                       ts_to='2019-04-01T21:20:08.120000-05:00')"
   ]
  },
  {
   "cell_type": "code",
   "execution_count": 59,
   "metadata": {},
   "outputs": [
    {
     "data": {
      "text/html": [
       "<div>\n",
       "<style scoped>\n",
       "    .dataframe tbody tr th:only-of-type {\n",
       "        vertical-align: middle;\n",
       "    }\n",
       "\n",
       "    .dataframe tbody tr th {\n",
       "        vertical-align: top;\n",
       "    }\n",
       "\n",
       "    .dataframe thead th {\n",
       "        text-align: right;\n",
       "    }\n",
       "</style>\n",
       "<table border=\"1\" class=\"dataframe\">\n",
       "  <thead>\n",
       "    <tr style=\"text-align: right;\">\n",
       "      <th></th>\n",
       "      <th>val</th>\n",
       "      <th>severity</th>\n",
       "      <th>status</th>\n",
       "    </tr>\n",
       "    <tr>\n",
       "      <th>Timestamp</th>\n",
       "      <th></th>\n",
       "      <th></th>\n",
       "      <th></th>\n",
       "    </tr>\n",
       "  </thead>\n",
       "  <tbody>\n",
       "    <tr>\n",
       "      <th>2019-02-25 14:57:10.800305605-05:00</th>\n",
       "      <td>-3.224</td>\n",
       "      <td>0</td>\n",
       "      <td>0</td>\n",
       "    </tr>\n",
       "    <tr>\n",
       "      <th>2019-03-04 17:04:26.088551760-05:00</th>\n",
       "      <td>-2.248</td>\n",
       "      <td>0</td>\n",
       "      <td>0</td>\n",
       "    </tr>\n",
       "    <tr>\n",
       "      <th>2019-03-05 10:21:39.984897137-05:00</th>\n",
       "      <td>-2.998</td>\n",
       "      <td>0</td>\n",
       "      <td>0</td>\n",
       "    </tr>\n",
       "    <tr>\n",
       "      <th>2019-03-08 09:58:23.502053738-05:00</th>\n",
       "      <td>-3.411</td>\n",
       "      <td>0</td>\n",
       "      <td>0</td>\n",
       "    </tr>\n",
       "    <tr>\n",
       "      <th>2019-03-29 11:37:43.629910707-04:00</th>\n",
       "      <td>-2.998</td>\n",
       "      <td>0</td>\n",
       "      <td>0</td>\n",
       "    </tr>\n",
       "    <tr>\n",
       "      <th>2019-03-29 16:13:29.555224657-04:00</th>\n",
       "      <td>-2.598</td>\n",
       "      <td>0</td>\n",
       "      <td>0</td>\n",
       "    </tr>\n",
       "    <tr>\n",
       "      <th>2019-03-29 16:13:37.049640417-04:00</th>\n",
       "      <td>-2.098</td>\n",
       "      <td>0</td>\n",
       "      <td>0</td>\n",
       "    </tr>\n",
       "  </tbody>\n",
       "</table>\n",
       "</div>"
      ],
      "text/plain": [
       "                                       val  severity  status\n",
       "Timestamp                                                   \n",
       "2019-02-25 14:57:10.800305605-05:00 -3.224         0       0\n",
       "2019-03-04 17:04:26.088551760-05:00 -2.248         0       0\n",
       "2019-03-05 10:21:39.984897137-05:00 -2.998         0       0\n",
       "2019-03-08 09:58:23.502053738-05:00 -3.411         0       0\n",
       "2019-03-29 11:37:43.629910707-04:00 -2.998         0       0\n",
       "2019-03-29 16:13:29.555224657-04:00 -2.598         0       0\n",
       "2019-03-29 16:13:37.049640417-04:00 -2.098         0       0"
      ]
     },
     "execution_count": 59,
     "metadata": {},
     "output_type": "execute_result"
    }
   ],
   "source": [
    "data"
   ]
  },
  {
   "cell_type": "code",
   "execution_count": 60,
   "metadata": {},
   "outputs": [
    {
     "ename": "TypeError",
     "evalue": "string indices must be integers",
     "output_type": "error",
     "traceback": [
      "\u001b[0;31m---------------------------------------------------------------------------\u001b[0m",
      "\u001b[0;31mTypeError\u001b[0m                                 Traceback (most recent call last)",
      "\u001b[0;32m<ipython-input-60-d5ef6d6bf886>\u001b[0m in \u001b[0;36m<module>\u001b[0;34m()\u001b[0m\n\u001b[1;32m      2\u001b[0m data1 = client.get_data('FE_LEBT:PSC2_D0773:I_CSET',\n\u001b[1;32m      3\u001b[0m                        \u001b[0mts_from\u001b[0m\u001b[0;34m=\u001b[0m\u001b[0;34m'2019-03-01T13:04:08.120000-05:00'\u001b[0m\u001b[0;34m,\u001b[0m\u001b[0;34m\u001b[0m\u001b[0;34m\u001b[0m\u001b[0m\n\u001b[0;32m----> 4\u001b[0;31m                        ts_to='2019-04-01T21:20:08.120000-05:00')\n\u001b[0m",
      "\u001b[0;32m/user/zhangt/.local/lib/python3.7/site-packages/archappl/data/client.py\u001b[0m in \u001b[0;36mget_data\u001b[0;34m(self, pv, **kws)\u001b[0m\n\u001b[1;32m     90\u001b[0m             \u001b[0mdata\u001b[0m \u001b[0;34m=\u001b[0m \u001b[0mr\u001b[0m\u001b[0;34m.\u001b[0m\u001b[0mtext\u001b[0m\u001b[0;34m\u001b[0m\u001b[0;34m\u001b[0m\u001b[0m\n\u001b[1;32m     91\u001b[0m \u001b[0;34m\u001b[0m\u001b[0m\n\u001b[0;32m---> 92\u001b[0;31m         \u001b[0;32mreturn\u001b[0m \u001b[0m_normalize\u001b[0m\u001b[0;34m(\u001b[0m\u001b[0mdata\u001b[0m\u001b[0;34m)\u001b[0m\u001b[0;34m\u001b[0m\u001b[0;34m\u001b[0m\u001b[0m\n\u001b[0m\u001b[1;32m     93\u001b[0m \u001b[0;34m\u001b[0m\u001b[0m\n\u001b[1;32m     94\u001b[0m     \u001b[0;32mdef\u001b[0m \u001b[0m__repr__\u001b[0m\u001b[0;34m(\u001b[0m\u001b[0mself\u001b[0m\u001b[0;34m)\u001b[0m\u001b[0;34m:\u001b[0m\u001b[0;34m\u001b[0m\u001b[0;34m\u001b[0m\u001b[0m\n",
      "\u001b[0;32m/user/zhangt/.local/lib/python3.7/site-packages/archappl/data/client.py\u001b[0m in \u001b[0;36m_normalize\u001b[0;34m(data)\u001b[0m\n\u001b[1;32m     99\u001b[0m     \"\"\"Normalize data as pandas.DataFrame.\n\u001b[1;32m    100\u001b[0m     \"\"\"\n\u001b[0;32m--> 101\u001b[0;31m     \u001b[0md_data\u001b[0m \u001b[0;34m=\u001b[0m \u001b[0mdata\u001b[0m\u001b[0;34m[\u001b[0m\u001b[0;36m0\u001b[0m\u001b[0;34m]\u001b[0m\u001b[0;34m[\u001b[0m\u001b[0;34m'data'\u001b[0m\u001b[0;34m]\u001b[0m\u001b[0;34m\u001b[0m\u001b[0;34m\u001b[0m\u001b[0m\n\u001b[0m\u001b[1;32m    102\u001b[0m     \u001b[0mval_ks\u001b[0m \u001b[0;34m=\u001b[0m \u001b[0;34m[\u001b[0m\u001b[0mk\u001b[0m \u001b[0;32mfor\u001b[0m \u001b[0mk\u001b[0m \u001b[0;32min\u001b[0m \u001b[0md_data\u001b[0m\u001b[0;34m[\u001b[0m\u001b[0;36m0\u001b[0m\u001b[0;34m]\u001b[0m \u001b[0;32mif\u001b[0m \u001b[0mk\u001b[0m \u001b[0;32mnot\u001b[0m \u001b[0;32min\u001b[0m \u001b[0;34m(\u001b[0m\u001b[0;34m'secs'\u001b[0m\u001b[0;34m,\u001b[0m \u001b[0;34m'nanos'\u001b[0m\u001b[0;34m)\u001b[0m\u001b[0;34m]\u001b[0m\u001b[0;34m\u001b[0m\u001b[0;34m\u001b[0m\u001b[0m\n\u001b[1;32m    103\u001b[0m \u001b[0;34m\u001b[0m\u001b[0m\n",
      "\u001b[0;31mTypeError\u001b[0m: string indices must be integers"
     ]
    }
   ],
   "source": [
    "client.format = 'raw'\n",
    "data1 = client.get_data('FE_LEBT:PSC2_D0773:I_CSET',\n",
    "                       ts_from='2019-03-01T13:04:08.120000-05:00',\n",
    "                       ts_to='2019-04-01T21:20:08.120000-05:00')"
   ]
  },
  {
   "cell_type": "code",
   "execution_count": 61,
   "metadata": {},
   "outputs": [
    {
     "data": {
      "text/plain": [
       "[Data Client] Archiver Appliance on: http://epicsarchiver0.ftc:17668/retrieval/data/getData.raw"
      ]
     },
     "execution_count": 61,
     "metadata": {},
     "output_type": "execute_result"
    }
   ],
   "source": [
    "client"
   ]
  },
  {
   "cell_type": "code",
   "execution_count": 19,
   "metadata": {},
   "outputs": [
    {
     "data": {
      "text/plain": [
       "DatetimeIndex(['2019-02-25 14:57:10.800305605-05:00',\n",
       "               '2019-03-04 17:04:26.088551760-05:00',\n",
       "               '2019-03-05 10:21:39.984897137-05:00',\n",
       "               '2019-03-08 09:58:23.502053738-05:00',\n",
       "               '2019-03-29 11:37:43.629910707-04:00',\n",
       "               '2019-03-29 16:13:29.555224657-04:00',\n",
       "               '2019-03-29 16:13:37.049640417-04:00'],\n",
       "              dtype='datetime64[ns, US/Eastern]', name='Timestamp', freq=None)"
      ]
     },
     "execution_count": 19,
     "metadata": {},
     "output_type": "execute_result"
    }
   ],
   "source": [
    "data.index"
   ]
  },
  {
   "cell_type": "code",
   "execution_count": 23,
   "metadata": {},
   "outputs": [
    {
     "data": {
      "text/plain": [
       "<matplotlib.axes._subplots.AxesSubplot at 0x7f27b5b07208>"
      ]
     },
     "execution_count": 23,
     "metadata": {},
     "output_type": "execute_result"
    },
    {
     "data": {
      "image/png": "[encoded data removed]",
      "text/plain": [
       "<Figure size 432x288 with 1 Axes>"
      ]
     },
     "metadata": {
      "needs_background": "light"
     },
     "output_type": "display_data"
    }
   ],
   "source": [
    "data.plot(y='val', kind='box')"
   ]
  },
  {
   "cell_type": "code",
   "execution_count": 62,
   "metadata": {},
   "outputs": [
    {
     "data": {
      "text/plain": [
       "{}"
      ]
     },
     "execution_count": 62,
     "metadata": {},
     "output_type": "execute_result"
    }
   ],
   "source": [
    "client.get_data_at_time(['FE_LEBT:PSC2_D0773:I_CSET'], ts='2019-03-08T09:58:23.502054-05:00')"
   ]
  },
  {
   "cell_type": "code",
   "execution_count": 63,
   "metadata": {},
   "outputs": [
    {
     "data": {
      "text/plain": [
       "{}"
      ]
     },
     "execution_count": 63,
     "metadata": {},
     "output_type": "execute_result"
    }
   ],
   "source": [
    "client.get_data_at_time(['FE_LEBT:PSC2_D0773:I_CSET'], ts='2019-03-08T09:58:23.502054-05:00')"
   ]
  },
  {
   "cell_type": "code",
   "execution_count": 25,
   "metadata": {},
   "outputs": [],
   "source": [
    "from archappl.client import ArchiverMgmtClient"
   ]
  },
  {
   "cell_type": "code",
   "execution_count": 26,
   "metadata": {},
   "outputs": [],
   "source": [
    "admin_client = ArchiverMgmtClient()\n",
    "admin_client.url = \"http://epicsarchiver0.ftc:17665\""
   ]
  },
  {
   "cell_type": "code",
   "execution_count": 27,
   "metadata": {
    "scrolled": true
   },
   "outputs": [
    {
     "data": {
      "text/plain": [
       "[Admin Client] Archiver Appliance on: http://epicsarchiver0.ftc:17665/mgmt/bpl"
      ]
     },
     "execution_count": 27,
     "metadata": {},
     "output_type": "execute_result"
    }
   ],
   "source": [
    "admin_client"
   ]
  },
  {
   "cell_type": "markdown",
   "metadata": {},
   "source": [
    "# TS range"
   ]
  },
  {
   "cell_type": "code",
   "execution_count": 28,
   "metadata": {},
   "outputs": [],
   "source": [
    "from archappl.data import iso_to_epoch, epoch_to_iso"
   ]
  },
  {
   "cell_type": "code",
   "execution_count": 29,
   "metadata": {},
   "outputs": [],
   "source": [
    "ts0_iso = \"2019-03-05T15:30:00.000001-05:00\"\n",
    "ts0_epoch, tz = iso_to_epoch(ts0_iso)"
   ]
  },
  {
   "cell_type": "code",
   "execution_count": 31,
   "metadata": {},
   "outputs": [
    {
     "data": {
      "text/plain": [
       "(1551817800.000001, '-05:00')"
      ]
     },
     "execution_count": 31,
     "metadata": {},
     "output_type": "execute_result"
    }
   ],
   "source": [
    "ts0_epoch, tz"
   ]
  },
  {
   "cell_type": "code",
   "execution_count": 32,
   "metadata": {},
   "outputs": [
    {
     "name": "stdout",
     "output_type": "stream",
     "text": [
      "2019-03-05T15:25:00.000001-05:00 2019-03-05T15:35:00.000001-05:00\n"
     ]
    }
   ],
   "source": [
    "delt_sec = 300\n",
    "t0 = ts0_epoch - delt_sec\n",
    "t1 = ts0_epoch + delt_sec\n",
    "ts_begin = epoch_to_iso(t0)\n",
    "ts_end = epoch_to_iso(t1)\n",
    "print(ts_begin, ts_end)"
   ]
  },
  {
   "cell_type": "code",
   "execution_count": 33,
   "metadata": {},
   "outputs": [],
   "source": [
    "import numpy as np"
   ]
  },
  {
   "cell_type": "code",
   "execution_count": 34,
   "metadata": {},
   "outputs": [],
   "source": [
    "pv_list = pvs_x[0::1]\n",
    "n_ts = 300\n",
    "n_elem = len(pv_list)\n",
    "ts_list = [epoch_to_iso(i, tz) for i in np.linspace(t0, t1, n_ts)]\n",
    "m = []\n",
    "#m = np.zeros([n_ts, n_elem])"
   ]
  },
  {
   "cell_type": "code",
   "execution_count": 53,
   "metadata": {},
   "outputs": [],
   "source": [
    "r0 = client.get_data_at_time(pv_list[0:1], ts=ts_list[0])"
   ]
  },
  {
   "cell_type": "code",
   "execution_count": 51,
   "metadata": {},
   "outputs": [
    {
     "data": {
      "text/plain": [
       "{}"
      ]
     },
     "execution_count": 51,
     "metadata": {},
     "output_type": "execute_result"
    }
   ],
   "source": [
    "r0"
   ]
  },
  {
   "cell_type": "code",
   "execution_count": 40,
   "metadata": {},
   "outputs": [
    {
     "data": {
      "text/plain": [
       "('2019-03-05T15:25:00.000001-05:00', ['FE_MEBT:BPM_D1056:XPOS_RD'])"
      ]
     },
     "execution_count": 40,
     "metadata": {},
     "output_type": "execute_result"
    }
   ],
   "source": [
    "ts_list[0], pv_list[0:1]"
   ]
  },
  {
   "cell_type": "code",
   "execution_count": 41,
   "metadata": {},
   "outputs": [],
   "source": [
    "for i, its in enumerate(ts_list):\n",
    "    r = client.get_data_at_time(pv_list, ts=its)\n",
    "    m.append([r[pv]['val'] for pv in pv_list if pv in r])"
   ]
  },
  {
   "cell_type": "code",
   "execution_count": 42,
   "metadata": {},
   "outputs": [],
   "source": [
    "results = np.array(m)"
   ]
  },
  {
   "cell_type": "code",
   "execution_count": 47,
   "metadata": {},
   "outputs": [
    {
     "data": {
      "text/plain": [
       "{}"
      ]
     },
     "execution_count": 47,
     "metadata": {},
     "output_type": "execute_result"
    }
   ],
   "source": [
    "r1 = client.get_data_at_time(pv_list, ts=its)\n",
    "r1"
   ]
  },
  {
   "cell_type": "code",
   "execution_count": 38,
   "metadata": {},
   "outputs": [],
   "source": [
    "valid_pvs = [k for k in pv_list if k in list(r.keys())]"
   ]
  },
  {
   "cell_type": "code",
   "execution_count": 39,
   "metadata": {},
   "outputs": [],
   "source": [
    "import pickle"
   ]
  },
  {
   "cell_type": "code",
   "execution_count": 40,
   "metadata": {
    "collapsed": true
   },
   "outputs": [],
   "source": [
    "data = {'results': results, 'pvs': valid_pvs, 'ts_iso': ts_list, 'ts': np.linspace(t0, t1, n_ts)}"
   ]
  },
  {
   "cell_type": "code",
   "execution_count": 41,
   "metadata": {},
   "outputs": [],
   "source": [
    "with open('data1.pkl', 'wb') as fp:\n",
    "    pickle.dump(data, fp)"
   ]
  }
 ],
 "metadata": {
  "kernelspec": {
   "display_name": "Python 3",
   "language": "python",
   "name": "python3"
  },
  "language_info": {
   "codemirror_mode": {
    "name": "ipython",
    "version": 3
   },
   "file_extension": ".py",
   "mimetype": "text/x-python",
   "name": "python",
   "nbconvert_exporter": "python",
   "pygments_lexer": "ipython3",
   "version": "3.7.3"
  }
 },
 "nbformat": 4,
 "nbformat_minor": 2
}
