{
 "cells": [
  {
   "cell_type": "code",
   "execution_count": 1,
   "metadata": {},
   "outputs": [],
   "source": [
    "from archappl.client import ArchiverDataClient\n",
    "from phantasy import MachinePortal\n",
    "from datetime import datetime\n",
    "%matplotlib notebook"
   ]
  },
  {
   "cell_type": "code",
   "execution_count": 3,
   "metadata": {},
   "outputs": [
    {
     "name": "stderr",
     "output_type": "stream",
     "text": [
      "WARNING: 2019-06-19 14:42:41,432: phantasy.library.operation.core: Load new machine: FRIB segment: MEBT2FS1A\n",
      "INFO: 2019-06-19 14:42:41,435: phantasy.library.parser.config: Searching configuration in relative or absolute path: 'FRIB'\n",
      "INFO: 2019-06-19 14:42:41,437: phantasy.library.parser.config: Searching configuration under path: '/user/zhangt/test_phantasy/phantasy-machines' 'FRIB'\n",
      "INFO: 2019-06-19 14:42:41,441: phantasy.library.parser.config: Importing 'FRIB' from '/user/zhangt/test_phantasy/phantasy-machines/FRIB'\n",
      "INFO: 2019-06-19 14:42:41,448: phantasy.library.parser.config: Using config file: phantasy.ini\n",
      "INFO: 2019-06-19 14:42:41,532: phantasy.library.operation.lattice: Using CSV/SQLite instead of CFS '/user/zhangt/test_phantasy/phantasy-machines/FRIB/./mebt2fs1a/channels.csv'\n",
      "INFO: 2019-06-19 14:42:41,533: phantasy.library.pv.datasource: Set source to be CSV table: channels.csv.\n",
      "INFO: 2019-06-19 14:42:41,624: phantasy.library.operation.lattice: Model data directory: /user/zhangt/phantasy_data/20190619/model_data/data_144241\n",
      "INFO: 2019-06-19 14:42:41,631: phantasy.library.operation.lattice: Found 2161 PVs in MEBT2FS1A.\n",
      "INFO: 2019-06-19 14:42:43,048: phantasy.library.operation.lattice: 'MEBT2FS1A' has 413 elements\n"
     ]
    }
   ],
   "source": [
    "mp = MachinePortal(\"FRIB\", \"MEBT2FS1A\")\n",
    "bpms = mp.get_elements(type=\"BPM\")\n",
    "client = ArchiverDataClient()\n",
    "client.url = \"http://epicsarchiver0.ftc:17668\""
   ]
  },
  {
   "cell_type": "code",
   "execution_count": 3,
   "metadata": {
    "collapsed": true
   },
   "outputs": [],
   "source": [
    "pvs_x = [i.pv('X', handle='readback')[0] for i in bpms]\n",
    "pvs_y = [i.pv('Y', handle='readback')[0] for i in bpms]"
   ]
  },
  {
   "cell_type": "code",
   "execution_count": 4,
   "metadata": {},
   "outputs": [],
   "source": [
    "ts0 = \"2019-03-05T13:04:08.120000\"\n",
    "dt = datetime.strptime(ts0, \"%Y-%m-%dT%H:%M:%S.%f\")"
   ]
  },
  {
   "cell_type": "code",
   "execution_count": 5,
   "metadata": {},
   "outputs": [],
   "source": [
    "ts0_epoch = dt.timestamp()"
   ]
  },
  {
   "cell_type": "code",
   "execution_count": 6,
   "metadata": {},
   "outputs": [],
   "source": [
    "_ts0 = datetime.fromtimestamp(ts0_epoch).isoformat() + \"-05:00\""
   ]
  },
  {
   "cell_type": "code",
   "execution_count": 7,
   "metadata": {},
   "outputs": [
    {
     "name": "stdout",
     "output_type": "stream",
     "text": [
      "2019-03-05T13:04:08.120000-05:00\n"
     ]
    }
   ],
   "source": [
    "print(_ts0)"
   ]
  },
  {
   "cell_type": "code",
   "execution_count": 8,
   "metadata": {},
   "outputs": [],
   "source": [
    "r = client.get_data_at_time([pvs_x[0]], ts=_ts0)"
   ]
  },
  {
   "cell_type": "code",
   "execution_count": 9,
   "metadata": {},
   "outputs": [
    {
     "data": {
      "text/plain": [
       "{'FE_MEBT:BPM_D1056:XPOS_RD': {'nanos': 4464964,\n",
       "  'secs': 1551809048,\n",
       "  'severity': 0,\n",
       "  'status': 0,\n",
       "  'val': -0.944449345999152}}"
      ]
     },
     "execution_count": 9,
     "metadata": {},
     "output_type": "execute_result"
    }
   ],
   "source": [
    "r"
   ]
  },
  {
   "cell_type": "code",
   "execution_count": 4,
   "metadata": {},
   "outputs": [
    {
     "data": {
      "text/plain": [
       "[Data Client] Archiver Appliance on: http://epicsarchiver0.ftc:17668/retrieval/data/getData.json"
      ]
     },
     "execution_count": 4,
     "metadata": {},
     "output_type": "execute_result"
    }
   ],
   "source": [
    "client"
   ]
  },
  {
   "cell_type": "code",
   "execution_count": 45,
   "metadata": {},
   "outputs": [],
   "source": [
    "data = client.get_data('FE_LEBT:PSC2_D0773:I_CSET',\n",
    "                       ifrom='2019-03-01T13:04:08.120000-05:00',\n",
    "                       to='2019-04-01T21:20:08.120000-05:00')"
   ]
  },
  {
   "cell_type": "code",
   "execution_count": 64,
   "metadata": {},
   "outputs": [
    {
     "data": {
      "application/javascript": [
       "/* Put everything inside the global mpl namespace */\n",
       "window.mpl = {};\n",
       "\n",
       "\n",
       "mpl.get_websocket_type = function() {\n",
       "    if (typeof(WebSocket) !== 'undefined') {\n",
       "        return WebSocket;\n",
       "    } else if (typeof(MozWebSocket) !== 'undefined') {\n",
       "        return MozWebSocket;\n",
       "    } else {\n",
       "        alert('Your browser does not have WebSocket support.' +\n",
       "              'Please try Chrome, Safari or Firefox ≥ 6. ' +\n",
       "              'Firefox 4 and 5 are also supported but you ' +\n",
       "              'have to enable WebSockets in about:config.');\n",
       "    };\n",
       "}\n",
       "\n",
       "mpl.figure = function(figure_id, websocket, ondownload, parent_element) {\n",
       "    this.id = figure_id;\n",
       "\n",
       "    this.ws = websocket;\n",
       "\n",
       "    this.supports_binary = (this.ws.binaryType != undefined);\n",
       "\n",
       "    if (!this.supports_binary) {\n",
       "        var warnings = document.getElementById(\"mpl-warnings\");\n",
       "        if (warnings) {\n",
       "            warnings.style.display = 'block';\n",
       "            warnings.textContent = (\n",
       "                \"This browser does not support binary websocket messages. \" +\n",
       "                    \"Performance may be slow.\");\n",
       "        }\n",
       "    }\n",
       "\n",
       "    this.imageObj = new Image();\n",
       "\n",
       "    this.context = undefined;\n",
       "    this.message = undefined;\n",
       "    this.canvas = undefined;\n",
       "    this.rubberband_canvas = undefined;\n",
       "    this.rubberband_context = undefined;\n",
       "    this.format_dropdown = undefined;\n",
       "\n",
       "    this.image_mode = 'full';\n",
       "\n",
       "    this.root = $('<div/>');\n",
       "    this._root_extra_style(this.root)\n",
       "    this.root.attr('style', 'display: inline-block');\n",
       "\n",
       "    $(parent_element).append(this.root);\n",
       "\n",
       "    this._init_header(this);\n",
       "    this._init_canvas(this);\n",
       "    this._init_toolbar(this);\n",
       "\n",
       "    var fig = this;\n",
       "\n",
       "    this.waiting = false;\n",
       "\n",
       "    this.ws.onopen =  function () {\n",
       "            fig.send_message(\"supports_binary\", {value: fig.supports_binary});\n",
       "            fig.send_message(\"send_image_mode\", {});\n",
       "            if (mpl.ratio != 1) {\n",
       "                fig.send_message(\"set_dpi_ratio\", {'dpi_ratio': mpl.ratio});\n",
       "            }\n",
       "            fig.send_message(\"refresh\", {});\n",
       "        }\n",
       "\n",
       "    this.imageObj.onload = function() {\n",
       "            if (fig.image_mode == 'full') {\n",
       "                // Full images could contain transparency (where diff images\n",
       "                // almost always do), so we need to clear the canvas so that\n",
       "                // there is no ghosting.\n",
       "                fig.context.clearRect(0, 0, fig.canvas.width, fig.canvas.height);\n",
       "            }\n",
       "            fig.context.drawImage(fig.imageObj, 0, 0);\n",
       "        };\n",
       "\n",
       "    this.imageObj.onunload = function() {\n",
       "        this.ws.close();\n",
       "    }\n",
       "\n",
       "    this.ws.onmessage = this._make_on_message_function(this);\n",
       "\n",
       "    this.ondownload = ondownload;\n",
       "}\n",
       "\n",
       "mpl.figure.prototype._init_header = function() {\n",
       "    var titlebar = $(\n",
       "        '<div class=\"ui-dialog-titlebar ui-widget-header ui-corner-all ' +\n",
       "        'ui-helper-clearfix\"/>');\n",
       "    var titletext = $(\n",
       "        '<div class=\"ui-dialog-title\" style=\"width: 100%; ' +\n",
       "        'text-align: center; padding: 3px;\"/>');\n",
       "    titlebar.append(titletext)\n",
       "    this.root.append(titlebar);\n",
       "    this.header = titletext[0];\n",
       "}\n",
       "\n",
       "\n",
       "\n",
       "mpl.figure.prototype._canvas_extra_style = function(canvas_div) {\n",
       "\n",
       "}\n",
       "\n",
       "\n",
       "mpl.figure.prototype._root_extra_style = function(canvas_div) {\n",
       "\n",
       "}\n",
       "\n",
       "mpl.figure.prototype._init_canvas = function() {\n",
       "    var fig = this;\n",
       "\n",
       "    var canvas_div = $('<div/>');\n",
       "\n",
       "    canvas_div.attr('style', 'position: relative; clear: both; outline: 0');\n",
       "\n",
       "    function canvas_keyboard_event(event) {\n",
       "        return fig.key_event(event, event['data']);\n",
       "    }\n",
       "\n",
       "    canvas_div.keydown('key_press', canvas_keyboard_event);\n",
       "    canvas_div.keyup('key_release', canvas_keyboard_event);\n",
       "    this.canvas_div = canvas_div\n",
       "    this._canvas_extra_style(canvas_div)\n",
       "    this.root.append(canvas_div);\n",
       "\n",
       "    var canvas = $('<canvas/>');\n",
       "    canvas.addClass('mpl-canvas');\n",
       "    canvas.attr('style', \"left: 0; top: 0; z-index: 0; outline: 0\")\n",
       "\n",
       "    this.canvas = canvas[0];\n",
       "    this.context = canvas[0].getContext(\"2d\");\n",
       "\n",
       "    var backingStore = this.context.backingStorePixelRatio ||\n",
       "\tthis.context.webkitBackingStorePixelRatio ||\n",
       "\tthis.context.mozBackingStorePixelRatio ||\n",
       "\tthis.context.msBackingStorePixelRatio ||\n",
       "\tthis.context.oBackingStorePixelRatio ||\n",
       "\tthis.context.backingStorePixelRatio || 1;\n",
       "\n",
       "    mpl.ratio = (window.devicePixelRatio || 1) / backingStore;\n",
       "\n",
       "    var rubberband = $('<canvas/>');\n",
       "    rubberband.attr('style', \"position: absolute; left: 0; top: 0; z-index: 1;\")\n",
       "\n",
       "    var pass_mouse_events = true;\n",
       "\n",
       "    canvas_div.resizable({\n",
       "        start: function(event, ui) {\n",
       "            pass_mouse_events = false;\n",
       "        },\n",
       "        resize: function(event, ui) {\n",
       "            fig.request_resize(ui.size.width, ui.size.height);\n",
       "        },\n",
       "        stop: function(event, ui) {\n",
       "            pass_mouse_events = true;\n",
       "            fig.request_resize(ui.size.width, ui.size.height);\n",
       "        },\n",
       "    });\n",
       "\n",
       "    function mouse_event_fn(event) {\n",
       "        if (pass_mouse_events)\n",
       "            return fig.mouse_event(event, event['data']);\n",
       "    }\n",
       "\n",
       "    rubberband.mousedown('button_press', mouse_event_fn);\n",
       "    rubberband.mouseup('button_release', mouse_event_fn);\n",
       "    // Throttle sequential mouse events to 1 every 20ms.\n",
       "    rubberband.mousemove('motion_notify', mouse_event_fn);\n",
       "\n",
       "    rubberband.mouseenter('figure_enter', mouse_event_fn);\n",
       "    rubberband.mouseleave('figure_leave', mouse_event_fn);\n",
       "\n",
       "    canvas_div.on(\"wheel\", function (event) {\n",
       "        event = event.originalEvent;\n",
       "        event['data'] = 'scroll'\n",
       "        if (event.deltaY < 0) {\n",
       "            event.step = 1;\n",
       "        } else {\n",
       "            event.step = -1;\n",
       "        }\n",
       "        mouse_event_fn(event);\n",
       "    });\n",
       "\n",
       "    canvas_div.append(canvas);\n",
       "    canvas_div.append(rubberband);\n",
       "\n",
       "    this.rubberband = rubberband;\n",
       "    this.rubberband_canvas = rubberband[0];\n",
       "    this.rubberband_context = rubberband[0].getContext(\"2d\");\n",
       "    this.rubberband_context.strokeStyle = \"#000000\";\n",
       "\n",
       "    this._resize_canvas = function(width, height) {\n",
       "        // Keep the size of the canvas, canvas container, and rubber band\n",
       "        // canvas in synch.\n",
       "        canvas_div.css('width', width)\n",
       "        canvas_div.css('height', height)\n",
       "\n",
       "        canvas.attr('width', width * mpl.ratio);\n",
       "        canvas.attr('height', height * mpl.ratio);\n",
       "        canvas.attr('style', 'width: ' + width + 'px; height: ' + height + 'px;');\n",
       "\n",
       "        rubberband.attr('width', width);\n",
       "        rubberband.attr('height', height);\n",
       "    }\n",
       "\n",
       "    // Set the figure to an initial 600x600px, this will subsequently be updated\n",
       "    // upon first draw.\n",
       "    this._resize_canvas(600, 600);\n",
       "\n",
       "    // Disable right mouse context menu.\n",
       "    $(this.rubberband_canvas).bind(\"contextmenu\",function(e){\n",
       "        return false;\n",
       "    });\n",
       "\n",
       "    function set_focus () {\n",
       "        canvas.focus();\n",
       "        canvas_div.focus();\n",
       "    }\n",
       "\n",
       "    window.setTimeout(set_focus, 100);\n",
       "}\n",
       "\n",
       "mpl.figure.prototype._init_toolbar = function() {\n",
       "    var fig = this;\n",
       "\n",
       "    var nav_element = $('<div/>')\n",
       "    nav_element.attr('style', 'width: 100%');\n",
       "    this.root.append(nav_element);\n",
       "\n",
       "    // Define a callback function for later on.\n",
       "    function toolbar_event(event) {\n",
       "        return fig.toolbar_button_onclick(event['data']);\n",
       "    }\n",
       "    function toolbar_mouse_event(event) {\n",
       "        return fig.toolbar_button_onmouseover(event['data']);\n",
       "    }\n",
       "\n",
       "    for(var toolbar_ind in mpl.toolbar_items) {\n",
       "        var name = mpl.toolbar_items[toolbar_ind][0];\n",
       "        var tooltip = mpl.toolbar_items[toolbar_ind][1];\n",
       "        var image = mpl.toolbar_items[toolbar_ind][2];\n",
       "        var method_name = mpl.toolbar_items[toolbar_ind][3];\n",
       "\n",
       "        if (!name) {\n",
       "            // put a spacer in here.\n",
       "            continue;\n",
       "        }\n",
       "        var button = $('<button/>');\n",
       "        button.addClass('ui-button ui-widget ui-state-default ui-corner-all ' +\n",
       "                        'ui-button-icon-only');\n",
       "        button.attr('role', 'button');\n",
       "        button.attr('aria-disabled', 'false');\n",
       "        button.click(method_name, toolbar_event);\n",
       "        button.mouseover(tooltip, toolbar_mouse_event);\n",
       "\n",
       "        var icon_img = $('<span/>');\n",
       "        icon_img.addClass('ui-button-icon-primary ui-icon');\n",
       "        icon_img.addClass(image);\n",
       "        icon_img.addClass('ui-corner-all');\n",
       "\n",
       "        var tooltip_span = $('<span/>');\n",
       "        tooltip_span.addClass('ui-button-text');\n",
       "        tooltip_span.html(tooltip);\n",
       "\n",
       "        button.append(icon_img);\n",
       "        button.append(tooltip_span);\n",
       "\n",
       "        nav_element.append(button);\n",
       "    }\n",
       "\n",
       "    var fmt_picker_span = $('<span/>');\n",
       "\n",
       "    var fmt_picker = $('<select/>');\n",
       "    fmt_picker.addClass('mpl-toolbar-option ui-widget ui-widget-content');\n",
       "    fmt_picker_span.append(fmt_picker);\n",
       "    nav_element.append(fmt_picker_span);\n",
       "    this.format_dropdown = fmt_picker[0];\n",
       "\n",
       "    for (var ind in mpl.extensions) {\n",
       "        var fmt = mpl.extensions[ind];\n",
       "        var option = $(\n",
       "            '<option/>', {selected: fmt === mpl.default_extension}).html(fmt);\n",
       "        fmt_picker.append(option)\n",
       "    }\n",
       "\n",
       "    // Add hover states to the ui-buttons\n",
       "    $( \".ui-button\" ).hover(\n",
       "        function() { $(this).addClass(\"ui-state-hover\");},\n",
       "        function() { $(this).removeClass(\"ui-state-hover\");}\n",
       "    );\n",
       "\n",
       "    var status_bar = $('<span class=\"mpl-message\"/>');\n",
       "    nav_element.append(status_bar);\n",
       "    this.message = status_bar[0];\n",
       "}\n",
       "\n",
       "mpl.figure.prototype.request_resize = function(x_pixels, y_pixels) {\n",
       "    // Request matplotlib to resize the figure. Matplotlib will then trigger a resize in the client,\n",
       "    // which will in turn request a refresh of the image.\n",
       "    this.send_message('resize', {'width': x_pixels, 'height': y_pixels});\n",
       "}\n",
       "\n",
       "mpl.figure.prototype.send_message = function(type, properties) {\n",
       "    properties['type'] = type;\n",
       "    properties['figure_id'] = this.id;\n",
       "    this.ws.send(JSON.stringify(properties));\n",
       "}\n",
       "\n",
       "mpl.figure.prototype.send_draw_message = function() {\n",
       "    if (!this.waiting) {\n",
       "        this.waiting = true;\n",
       "        this.ws.send(JSON.stringify({type: \"draw\", figure_id: this.id}));\n",
       "    }\n",
       "}\n",
       "\n",
       "\n",
       "mpl.figure.prototype.handle_save = function(fig, msg) {\n",
       "    var format_dropdown = fig.format_dropdown;\n",
       "    var format = format_dropdown.options[format_dropdown.selectedIndex].value;\n",
       "    fig.ondownload(fig, format);\n",
       "}\n",
       "\n",
       "\n",
       "mpl.figure.prototype.handle_resize = function(fig, msg) {\n",
       "    var size = msg['size'];\n",
       "    if (size[0] != fig.canvas.width || size[1] != fig.canvas.height) {\n",
       "        fig._resize_canvas(size[0], size[1]);\n",
       "        fig.send_message(\"refresh\", {});\n",
       "    };\n",
       "}\n",
       "\n",
       "mpl.figure.prototype.handle_rubberband = function(fig, msg) {\n",
       "    var x0 = msg['x0'] / mpl.ratio;\n",
       "    var y0 = (fig.canvas.height - msg['y0']) / mpl.ratio;\n",
       "    var x1 = msg['x1'] / mpl.ratio;\n",
       "    var y1 = (fig.canvas.height - msg['y1']) / mpl.ratio;\n",
       "    x0 = Math.floor(x0) + 0.5;\n",
       "    y0 = Math.floor(y0) + 0.5;\n",
       "    x1 = Math.floor(x1) + 0.5;\n",
       "    y1 = Math.floor(y1) + 0.5;\n",
       "    var min_x = Math.min(x0, x1);\n",
       "    var min_y = Math.min(y0, y1);\n",
       "    var width = Math.abs(x1 - x0);\n",
       "    var height = Math.abs(y1 - y0);\n",
       "\n",
       "    fig.rubberband_context.clearRect(\n",
       "        0, 0, fig.canvas.width, fig.canvas.height);\n",
       "\n",
       "    fig.rubberband_context.strokeRect(min_x, min_y, width, height);\n",
       "}\n",
       "\n",
       "mpl.figure.prototype.handle_figure_label = function(fig, msg) {\n",
       "    // Updates the figure title.\n",
       "    fig.header.textContent = msg['label'];\n",
       "}\n",
       "\n",
       "mpl.figure.prototype.handle_cursor = function(fig, msg) {\n",
       "    var cursor = msg['cursor'];\n",
       "    switch(cursor)\n",
       "    {\n",
       "    case 0:\n",
       "        cursor = 'pointer';\n",
       "        break;\n",
       "    case 1:\n",
       "        cursor = 'default';\n",
       "        break;\n",
       "    case 2:\n",
       "        cursor = 'crosshair';\n",
       "        break;\n",
       "    case 3:\n",
       "        cursor = 'move';\n",
       "        break;\n",
       "    }\n",
       "    fig.rubberband_canvas.style.cursor = cursor;\n",
       "}\n",
       "\n",
       "mpl.figure.prototype.handle_message = function(fig, msg) {\n",
       "    fig.message.textContent = msg['message'];\n",
       "}\n",
       "\n",
       "mpl.figure.prototype.handle_draw = function(fig, msg) {\n",
       "    // Request the server to send over a new figure.\n",
       "    fig.send_draw_message();\n",
       "}\n",
       "\n",
       "mpl.figure.prototype.handle_image_mode = function(fig, msg) {\n",
       "    fig.image_mode = msg['mode'];\n",
       "}\n",
       "\n",
       "mpl.figure.prototype.updated_canvas_event = function() {\n",
       "    // Called whenever the canvas gets updated.\n",
       "    this.send_message(\"ack\", {});\n",
       "}\n",
       "\n",
       "// A function to construct a web socket function for onmessage handling.\n",
       "// Called in the figure constructor.\n",
       "mpl.figure.prototype._make_on_message_function = function(fig) {\n",
       "    return function socket_on_message(evt) {\n",
       "        if (evt.data instanceof Blob) {\n",
       "            /* FIXME: We get \"Resource interpreted as Image but\n",
       "             * transferred with MIME type text/plain:\" errors on\n",
       "             * Chrome.  But how to set the MIME type?  It doesn't seem\n",
       "             * to be part of the websocket stream */\n",
       "            evt.data.type = \"image/png\";\n",
       "\n",
       "            /* Free the memory for the previous frames */\n",
       "            if (fig.imageObj.src) {\n",
       "                (window.URL || window.webkitURL).revokeObjectURL(\n",
       "                    fig.imageObj.src);\n",
       "            }\n",
       "\n",
       "            fig.imageObj.src = (window.URL || window.webkitURL).createObjectURL(\n",
       "                evt.data);\n",
       "            fig.updated_canvas_event();\n",
       "            fig.waiting = false;\n",
       "            return;\n",
       "        }\n",
       "        else if (typeof evt.data === 'string' && evt.data.slice(0, 21) == \"data:image/png;base64\") {\n",
       "            fig.imageObj.src = evt.data;\n",
       "            fig.updated_canvas_event();\n",
       "            fig.waiting = false;\n",
       "            return;\n",
       "        }\n",
       "\n",
       "        var msg = JSON.parse(evt.data);\n",
       "        var msg_type = msg['type'];\n",
       "\n",
       "        // Call the  \"handle_{type}\" callback, which takes\n",
       "        // the figure and JSON message as its only arguments.\n",
       "        try {\n",
       "            var callback = fig[\"handle_\" + msg_type];\n",
       "        } catch (e) {\n",
       "            console.log(\"No handler for the '\" + msg_type + \"' message type: \", msg);\n",
       "            return;\n",
       "        }\n",
       "\n",
       "        if (callback) {\n",
       "            try {\n",
       "                // console.log(\"Handling '\" + msg_type + \"' message: \", msg);\n",
       "                callback(fig, msg);\n",
       "            } catch (e) {\n",
       "                console.log(\"Exception inside the 'handler_\" + msg_type + \"' callback:\", e, e.stack, msg);\n",
       "            }\n",
       "        }\n",
       "    };\n",
       "}\n",
       "\n",
       "// from http://stackoverflow.com/questions/1114465/getting-mouse-location-in-canvas\n",
       "mpl.findpos = function(e) {\n",
       "    //this section is from http://www.quirksmode.org/js/events_properties.html\n",
       "    var targ;\n",
       "    if (!e)\n",
       "        e = window.event;\n",
       "    if (e.target)\n",
       "        targ = e.target;\n",
       "    else if (e.srcElement)\n",
       "        targ = e.srcElement;\n",
       "    if (targ.nodeType == 3) // defeat Safari bug\n",
       "        targ = targ.parentNode;\n",
       "\n",
       "    // jQuery normalizes the pageX and pageY\n",
       "    // pageX,Y are the mouse positions relative to the document\n",
       "    // offset() returns the position of the element relative to the document\n",
       "    var x = e.pageX - $(targ).offset().left;\n",
       "    var y = e.pageY - $(targ).offset().top;\n",
       "\n",
       "    return {\"x\": x, \"y\": y};\n",
       "};\n",
       "\n",
       "/*\n",
       " * return a copy of an object with only non-object keys\n",
       " * we need this to avoid circular references\n",
       " * http://stackoverflow.com/a/24161582/3208463\n",
       " */\n",
       "function simpleKeys (original) {\n",
       "  return Object.keys(original).reduce(function (obj, key) {\n",
       "    if (typeof original[key] !== 'object')\n",
       "        obj[key] = original[key]\n",
       "    return obj;\n",
       "  }, {});\n",
       "}\n",
       "\n",
       "mpl.figure.prototype.mouse_event = function(event, name) {\n",
       "    var canvas_pos = mpl.findpos(event)\n",
       "\n",
       "    if (name === 'button_press')\n",
       "    {\n",
       "        this.canvas.focus();\n",
       "        this.canvas_div.focus();\n",
       "    }\n",
       "\n",
       "    var x = canvas_pos.x * mpl.ratio;\n",
       "    var y = canvas_pos.y * mpl.ratio;\n",
       "\n",
       "    this.send_message(name, {x: x, y: y, button: event.button,\n",
       "                             step: event.step,\n",
       "                             guiEvent: simpleKeys(event)});\n",
       "\n",
       "    /* This prevents the web browser from automatically changing to\n",
       "     * the text insertion cursor when the button is pressed.  We want\n",
       "     * to control all of the cursor setting manually through the\n",
       "     * 'cursor' event from matplotlib */\n",
       "    event.preventDefault();\n",
       "    return false;\n",
       "}\n",
       "\n",
       "mpl.figure.prototype._key_event_extra = function(event, name) {\n",
       "    // Handle any extra behaviour associated with a key event\n",
       "}\n",
       "\n",
       "mpl.figure.prototype.key_event = function(event, name) {\n",
       "\n",
       "    // Prevent repeat events\n",
       "    if (name == 'key_press')\n",
       "    {\n",
       "        if (event.which === this._key)\n",
       "            return;\n",
       "        else\n",
       "            this._key = event.which;\n",
       "    }\n",
       "    if (name == 'key_release')\n",
       "        this._key = null;\n",
       "\n",
       "    var value = '';\n",
       "    if (event.ctrlKey && event.which != 17)\n",
       "        value += \"ctrl+\";\n",
       "    if (event.altKey && event.which != 18)\n",
       "        value += \"alt+\";\n",
       "    if (event.shiftKey && event.which != 16)\n",
       "        value += \"shift+\";\n",
       "\n",
       "    value += 'k';\n",
       "    value += event.which.toString();\n",
       "\n",
       "    this._key_event_extra(event, name);\n",
       "\n",
       "    this.send_message(name, {key: value,\n",
       "                             guiEvent: simpleKeys(event)});\n",
       "    return false;\n",
       "}\n",
       "\n",
       "mpl.figure.prototype.toolbar_button_onclick = function(name) {\n",
       "    if (name == 'download') {\n",
       "        this.handle_save(this, null);\n",
       "    } else {\n",
       "        this.send_message(\"toolbar_button\", {name: name});\n",
       "    }\n",
       "};\n",
       "\n",
       "mpl.figure.prototype.toolbar_button_onmouseover = function(tooltip) {\n",
       "    this.message.textContent = tooltip;\n",
       "};\n",
       "mpl.toolbar_items = [[\"Home\", \"Reset original view\", \"fa fa-home icon-home\", \"home\"], [\"Back\", \"Back to  previous view\", \"fa fa-arrow-left icon-arrow-left\", \"back\"], [\"Forward\", \"Forward to next view\", \"fa fa-arrow-right icon-arrow-right\", \"forward\"], [\"\", \"\", \"\", \"\"], [\"Pan\", \"Pan axes with left mouse, zoom with right\", \"fa fa-arrows icon-move\", \"pan\"], [\"Zoom\", \"Zoom to rectangle\", \"fa fa-square-o icon-check-empty\", \"zoom\"], [\"\", \"\", \"\", \"\"], [\"Download\", \"Download plot\", \"fa fa-floppy-o icon-save\", \"download\"]];\n",
       "\n",
       "mpl.extensions = [\"eps\", \"jpeg\", \"pdf\", \"png\", \"ps\", \"raw\", \"svg\", \"tif\"];\n",
       "\n",
       "mpl.default_extension = \"png\";var comm_websocket_adapter = function(comm) {\n",
       "    // Create a \"websocket\"-like object which calls the given IPython comm\n",
       "    // object with the appropriate methods. Currently this is a non binary\n",
       "    // socket, so there is still some room for performance tuning.\n",
       "    var ws = {};\n",
       "\n",
       "    ws.close = function() {\n",
       "        comm.close()\n",
       "    };\n",
       "    ws.send = function(m) {\n",
       "        //console.log('sending', m);\n",
       "        comm.send(m);\n",
       "    };\n",
       "    // Register the callback with on_msg.\n",
       "    comm.on_msg(function(msg) {\n",
       "        //console.log('receiving', msg['content']['data'], msg);\n",
       "        // Pass the mpl event to the overriden (by mpl) onmessage function.\n",
       "        ws.onmessage(msg['content']['data'])\n",
       "    });\n",
       "    return ws;\n",
       "}\n",
       "\n",
       "mpl.mpl_figure_comm = function(comm, msg) {\n",
       "    // This is the function which gets called when the mpl process\n",
       "    // starts-up an IPython Comm through the \"matplotlib\" channel.\n",
       "\n",
       "    var id = msg.content.data.id;\n",
       "    // Get hold of the div created by the display call when the Comm\n",
       "    // socket was opened in Python.\n",
       "    var element = $(\"#\" + id);\n",
       "    var ws_proxy = comm_websocket_adapter(comm)\n",
       "\n",
       "    function ondownload(figure, format) {\n",
       "        window.open(figure.imageObj.src);\n",
       "    }\n",
       "\n",
       "    var fig = new mpl.figure(id, ws_proxy,\n",
       "                           ondownload,\n",
       "                           element.get(0));\n",
       "\n",
       "    // Call onopen now - mpl needs it, as it is assuming we've passed it a real\n",
       "    // web socket which is closed, not our websocket->open comm proxy.\n",
       "    ws_proxy.onopen();\n",
       "\n",
       "    fig.parent_element = element.get(0);\n",
       "    fig.cell_info = mpl.find_output_cell(\"<div id='\" + id + \"'></div>\");\n",
       "    if (!fig.cell_info) {\n",
       "        console.error(\"Failed to find cell for figure\", id, fig);\n",
       "        return;\n",
       "    }\n",
       "\n",
       "    var output_index = fig.cell_info[2]\n",
       "    var cell = fig.cell_info[0];\n",
       "\n",
       "};\n",
       "\n",
       "mpl.figure.prototype.handle_close = function(fig, msg) {\n",
       "    var width = fig.canvas.width/mpl.ratio\n",
       "    fig.root.unbind('remove')\n",
       "\n",
       "    // Update the output cell to use the data from the current canvas.\n",
       "    fig.push_to_output();\n",
       "    var dataURL = fig.canvas.toDataURL();\n",
       "    // Re-enable the keyboard manager in IPython - without this line, in FF,\n",
       "    // the notebook keyboard shortcuts fail.\n",
       "    IPython.keyboard_manager.enable()\n",
       "    $(fig.parent_element).html('<img src=\"' + dataURL + '\" width=\"' + width + '\">');\n",
       "    fig.close_ws(fig, msg);\n",
       "}\n",
       "\n",
       "mpl.figure.prototype.close_ws = function(fig, msg){\n",
       "    fig.send_message('closing', msg);\n",
       "    // fig.ws.close()\n",
       "}\n",
       "\n",
       "mpl.figure.prototype.push_to_output = function(remove_interactive) {\n",
       "    // Turn the data on the canvas into data in the output cell.\n",
       "    var width = this.canvas.width/mpl.ratio\n",
       "    var dataURL = this.canvas.toDataURL();\n",
       "    this.cell_info[1]['text/html'] = '<img src=\"' + dataURL + '\" width=\"' + width + '\">';\n",
       "}\n",
       "\n",
       "mpl.figure.prototype.updated_canvas_event = function() {\n",
       "    // Tell IPython that the notebook contents must change.\n",
       "    IPython.notebook.set_dirty(true);\n",
       "    this.send_message(\"ack\", {});\n",
       "    var fig = this;\n",
       "    // Wait a second, then push the new image to the DOM so\n",
       "    // that it is saved nicely (might be nice to debounce this).\n",
       "    setTimeout(function () { fig.push_to_output() }, 1000);\n",
       "}\n",
       "\n",
       "mpl.figure.prototype._init_toolbar = function() {\n",
       "    var fig = this;\n",
       "\n",
       "    var nav_element = $('<div/>')\n",
       "    nav_element.attr('style', 'width: 100%');\n",
       "    this.root.append(nav_element);\n",
       "\n",
       "    // Define a callback function for later on.\n",
       "    function toolbar_event(event) {\n",
       "        return fig.toolbar_button_onclick(event['data']);\n",
       "    }\n",
       "    function toolbar_mouse_event(event) {\n",
       "        return fig.toolbar_button_onmouseover(event['data']);\n",
       "    }\n",
       "\n",
       "    for(var toolbar_ind in mpl.toolbar_items){\n",
       "        var name = mpl.toolbar_items[toolbar_ind][0];\n",
       "        var tooltip = mpl.toolbar_items[toolbar_ind][1];\n",
       "        var image = mpl.toolbar_items[toolbar_ind][2];\n",
       "        var method_name = mpl.toolbar_items[toolbar_ind][3];\n",
       "\n",
       "        if (!name) { continue; };\n",
       "\n",
       "        var button = $('<button class=\"btn btn-default\" href=\"#\" title=\"' + name + '\"><i class=\"fa ' + image + ' fa-lg\"></i></button>');\n",
       "        button.click(method_name, toolbar_event);\n",
       "        button.mouseover(tooltip, toolbar_mouse_event);\n",
       "        nav_element.append(button);\n",
       "    }\n",
       "\n",
       "    // Add the status bar.\n",
       "    var status_bar = $('<span class=\"mpl-message\" style=\"text-align:right; float: right;\"/>');\n",
       "    nav_element.append(status_bar);\n",
       "    this.message = status_bar[0];\n",
       "\n",
       "    // Add the close button to the window.\n",
       "    var buttongrp = $('<div class=\"btn-group inline pull-right\"></div>');\n",
       "    var button = $('<button class=\"btn btn-mini btn-primary\" href=\"#\" title=\"Stop Interaction\"><i class=\"fa fa-power-off icon-remove icon-large\"></i></button>');\n",
       "    button.click(function (evt) { fig.handle_close(fig, {}); } );\n",
       "    button.mouseover('Stop Interaction', toolbar_mouse_event);\n",
       "    buttongrp.append(button);\n",
       "    var titlebar = this.root.find($('.ui-dialog-titlebar'));\n",
       "    titlebar.prepend(buttongrp);\n",
       "}\n",
       "\n",
       "mpl.figure.prototype._root_extra_style = function(el){\n",
       "    var fig = this\n",
       "    el.on(\"remove\", function(){\n",
       "\tfig.close_ws(fig, {});\n",
       "    });\n",
       "}\n",
       "\n",
       "mpl.figure.prototype._canvas_extra_style = function(el){\n",
       "    // this is important to make the div 'focusable\n",
       "    el.attr('tabindex', 0)\n",
       "    // reach out to IPython and tell the keyboard manager to turn it's self\n",
       "    // off when our div gets focus\n",
       "\n",
       "    // location in version 3\n",
       "    if (IPython.notebook.keyboard_manager) {\n",
       "        IPython.notebook.keyboard_manager.register_events(el);\n",
       "    }\n",
       "    else {\n",
       "        // location in version 2\n",
       "        IPython.keyboard_manager.register_events(el);\n",
       "    }\n",
       "\n",
       "}\n",
       "\n",
       "mpl.figure.prototype._key_event_extra = function(event, name) {\n",
       "    var manager = IPython.notebook.keyboard_manager;\n",
       "    if (!manager)\n",
       "        manager = IPython.keyboard_manager;\n",
       "\n",
       "    // Check for shift+enter\n",
       "    if (event.shiftKey && event.which == 13) {\n",
       "        this.canvas_div.blur();\n",
       "        // select the cell after this one\n",
       "        var index = IPython.notebook.find_cell_index(this.cell_info[0]);\n",
       "        IPython.notebook.select(index + 1);\n",
       "    }\n",
       "}\n",
       "\n",
       "mpl.figure.prototype.handle_save = function(fig, msg) {\n",
       "    fig.ondownload(fig, null);\n",
       "}\n",
       "\n",
       "\n",
       "mpl.find_output_cell = function(html_output) {\n",
       "    // Return the cell and output element which can be found *uniquely* in the notebook.\n",
       "    // Note - this is a bit hacky, but it is done because the \"notebook_saving.Notebook\"\n",
       "    // IPython event is triggered only after the cells have been serialised, which for\n",
       "    // our purposes (turning an active figure into a static one), is too late.\n",
       "    var cells = IPython.notebook.get_cells();\n",
       "    var ncells = cells.length;\n",
       "    for (var i=0; i<ncells; i++) {\n",
       "        var cell = cells[i];\n",
       "        if (cell.cell_type === 'code'){\n",
       "            for (var j=0; j<cell.output_area.outputs.length; j++) {\n",
       "                var data = cell.output_area.outputs[j];\n",
       "                if (data.data) {\n",
       "                    // IPython >= 3 moved mimebundle to data attribute of output\n",
       "                    data = data.data;\n",
       "                }\n",
       "                if (data['text/html'] == html_output) {\n",
       "                    return [cell, data, j];\n",
       "                }\n",
       "            }\n",
       "        }\n",
       "    }\n",
       "}\n",
       "\n",
       "// Register the function which deals with the matplotlib target/channel.\n",
       "// The kernel may be null if the page has been refreshed.\n",
       "if (IPython.notebook.kernel != null) {\n",
       "    IPython.notebook.kernel.comm_manager.register_target('matplotlib', mpl.mpl_figure_comm);\n",
       "}\n"
      ],
      "text/plain": [
       "<IPython.core.display.Javascript object>"
      ]
     },
     "metadata": {},
     "output_type": "display_data"
    },
    {
     "data": {
      "text/html": [
       "<img src=\"data:image/png;base64,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\" width=\"639.8333333333334\">"
      ],
      "text/plain": [
       "<IPython.core.display.HTML object>"
      ]
     },
     "metadata": {},
     "output_type": "display_data"
    },
    {
     "data": {
      "text/plain": [
       "<matplotlib.axes._subplots.AxesSubplot at 0x7fa2bb4294a8>"
      ]
     },
     "execution_count": 64,
     "metadata": {},
     "output_type": "execute_result"
    }
   ],
   "source": [
    "data.plot(x=data.index, y='val', kind='box')"
   ]
  },
  {
   "cell_type": "code",
   "execution_count": 44,
   "metadata": {},
   "outputs": [
    {
     "data": {
      "text/plain": [
       "{}"
      ]
     },
     "execution_count": 44,
     "metadata": {},
     "output_type": "execute_result"
    }
   ],
   "source": [
    "client.get_data_at_time(['FE_LEBT:PSC2_D0773:I_CSET'], ts='2019-03-08T09:58:23.502054-05:00')"
   ]
  },
  {
   "cell_type": "code",
   "execution_count": 11,
   "metadata": {
    "collapsed": true
   },
   "outputs": [],
   "source": [
    "from archappl.client import ArchiverMgmtClient"
   ]
  },
  {
   "cell_type": "code",
   "execution_count": 12,
   "metadata": {
    "collapsed": true
   },
   "outputs": [],
   "source": [
    "admin_client = ArchiverMgmtClient()\n",
    "admin_client.url = \"http://epicsarchiver0.ftc:17665\""
   ]
  },
  {
   "cell_type": "code",
   "execution_count": 13,
   "metadata": {
    "scrolled": true
   },
   "outputs": [
    {
     "data": {
      "text/plain": [
       "[Admin Client] Archiver Appliance on: http://epicsarchiver0.ftc:17665/mgmt/bpl"
      ]
     },
     "execution_count": 13,
     "metadata": {},
     "output_type": "execute_result"
    }
   ],
   "source": [
    "admin_client"
   ]
  },
  {
   "cell_type": "markdown",
   "metadata": {},
   "source": [
    "# TS range"
   ]
  },
  {
   "cell_type": "code",
   "execution_count": 2,
   "metadata": {},
   "outputs": [],
   "source": [
    "from archappl.data import iso_to_epoch, epoch_to_iso"
   ]
  },
  {
   "cell_type": "code",
   "execution_count": 3,
   "metadata": {},
   "outputs": [],
   "source": [
    "ts0_iso = \"2019-03-05T15:30:00.000001-05:00\"\n",
    "ts0_epoch, tz = iso_to_epoch(ts0_iso)"
   ]
  },
  {
   "cell_type": "code",
   "execution_count": 4,
   "metadata": {},
   "outputs": [
    {
     "data": {
      "text/plain": [
       "1551817800.000001"
      ]
     },
     "execution_count": 4,
     "metadata": {},
     "output_type": "execute_result"
    }
   ],
   "source": [
    "ts0_epoch"
   ]
  },
  {
   "cell_type": "code",
   "execution_count": 5,
   "metadata": {},
   "outputs": [
    {
     "name": "stdout",
     "output_type": "stream",
     "text": [
      "2019-03-05T15:25:00.000001-05:00 2019-03-05T15:35:00.000001-05:00\n"
     ]
    }
   ],
   "source": [
    "delt_sec = 300\n",
    "t0 = ts0_epoch - delt_sec\n",
    "t1 = ts0_epoch + delt_sec\n",
    "ts_begin = epoch_to_iso(t0)\n",
    "ts_end = epoch_to_iso(t1)\n",
    "print(ts_begin, ts_end)"
   ]
  },
  {
   "cell_type": "code",
   "execution_count": 6,
   "metadata": {},
   "outputs": [],
   "source": [
    "import numpy as np"
   ]
  },
  {
   "cell_type": "code",
   "execution_count": 7,
   "metadata": {},
   "outputs": [
    {
     "ename": "NameError",
     "evalue": "name 'pvs_x' is not defined",
     "output_type": "error",
     "traceback": [
      "\u001b[0;31m---------------------------------------------------------------------------\u001b[0m",
      "\u001b[0;31mNameError\u001b[0m                                 Traceback (most recent call last)",
      "\u001b[0;32m<ipython-input-7-1e94e605eaab>\u001b[0m in \u001b[0;36m<module>\u001b[0;34m()\u001b[0m\n\u001b[0;32m----> 1\u001b[0;31m \u001b[0mpv_list\u001b[0m \u001b[0;34m=\u001b[0m \u001b[0mpvs_x\u001b[0m\u001b[0;34m[\u001b[0m\u001b[0;36m0\u001b[0m\u001b[0;34m:\u001b[0m\u001b[0;34m:\u001b[0m\u001b[0;36m1\u001b[0m\u001b[0;34m]\u001b[0m\u001b[0;34m\u001b[0m\u001b[0;34m\u001b[0m\u001b[0m\n\u001b[0m\u001b[1;32m      2\u001b[0m \u001b[0mn_ts\u001b[0m \u001b[0;34m=\u001b[0m \u001b[0;36m300\u001b[0m\u001b[0;34m\u001b[0m\u001b[0;34m\u001b[0m\u001b[0m\n\u001b[1;32m      3\u001b[0m \u001b[0mn_elem\u001b[0m \u001b[0;34m=\u001b[0m \u001b[0mlen\u001b[0m\u001b[0;34m(\u001b[0m\u001b[0mpv_list\u001b[0m\u001b[0;34m)\u001b[0m\u001b[0;34m\u001b[0m\u001b[0;34m\u001b[0m\u001b[0m\n\u001b[1;32m      4\u001b[0m \u001b[0mts_list\u001b[0m \u001b[0;34m=\u001b[0m \u001b[0;34m[\u001b[0m\u001b[0mepoch_to_iso\u001b[0m\u001b[0;34m(\u001b[0m\u001b[0mi\u001b[0m\u001b[0;34m,\u001b[0m \u001b[0mtz\u001b[0m\u001b[0;34m)\u001b[0m \u001b[0;32mfor\u001b[0m \u001b[0mi\u001b[0m \u001b[0;32min\u001b[0m \u001b[0mnp\u001b[0m\u001b[0;34m.\u001b[0m\u001b[0mlinspace\u001b[0m\u001b[0;34m(\u001b[0m\u001b[0mt0\u001b[0m\u001b[0;34m,\u001b[0m \u001b[0mt1\u001b[0m\u001b[0;34m,\u001b[0m \u001b[0mn_ts\u001b[0m\u001b[0;34m)\u001b[0m\u001b[0;34m]\u001b[0m\u001b[0;34m\u001b[0m\u001b[0;34m\u001b[0m\u001b[0m\n\u001b[1;32m      5\u001b[0m \u001b[0mm\u001b[0m \u001b[0;34m=\u001b[0m \u001b[0;34m[\u001b[0m\u001b[0;34m]\u001b[0m\u001b[0;34m\u001b[0m\u001b[0;34m\u001b[0m\u001b[0m\n",
      "\u001b[0;31mNameError\u001b[0m: name 'pvs_x' is not defined"
     ]
    }
   ],
   "source": [
    "pv_list = pvs_x[0::1]\n",
    "n_ts = 300\n",
    "n_elem = len(pv_list)\n",
    "ts_list = [epoch_to_iso(i, tz) for i in np.linspace(t0, t1, n_ts)]\n",
    "m = []\n",
    "#m = np.zeros([n_ts, n_elem])"
   ]
  },
  {
   "cell_type": "code",
   "execution_count": 20,
   "metadata": {
    "collapsed": true
   },
   "outputs": [],
   "source": [
    "r0 = client.get_data_at_time(pv_list[0:1], ts=ts_list[0])"
   ]
  },
  {
   "cell_type": "code",
   "execution_count": 23,
   "metadata": {},
   "outputs": [
    {
     "data": {
      "text/plain": [
       "{'FE_MEBT:BPM_D1056:XPOS_RD': {'nanos': 201743591,\n",
       "  'secs': 1551817498,\n",
       "  'severity': 0,\n",
       "  'status': 0,\n",
       "  'val': -0.9757415155015057}}"
      ]
     },
     "execution_count": 23,
     "metadata": {},
     "output_type": "execute_result"
    }
   ],
   "source": [
    "r0"
   ]
  },
  {
   "cell_type": "code",
   "execution_count": 21,
   "metadata": {},
   "outputs": [
    {
     "data": {
      "text/plain": [
       "['FE_MEBT:BPM_D1056:XPOS_RD']"
      ]
     },
     "execution_count": 21,
     "metadata": {},
     "output_type": "execute_result"
    }
   ],
   "source": [
    "ts_list[0]\n",
    "pv_list[0:1]"
   ]
  },
  {
   "cell_type": "code",
   "execution_count": 24,
   "metadata": {},
   "outputs": [],
   "source": [
    "for i, its in enumerate(ts_list):\n",
    "    r = client.get_data_at_time(pv_list, ts=its)\n",
    "    m.append([r[pv]['val'] for pv in pv_list if pv in r])"
   ]
  },
  {
   "cell_type": "code",
   "execution_count": 25,
   "metadata": {},
   "outputs": [],
   "source": [
    "results = np.array(m)"
   ]
  },
  {
   "cell_type": "code",
   "execution_count": 37,
   "metadata": {},
   "outputs": [
    {
     "data": {
      "text/plain": [
       "{}"
      ]
     },
     "execution_count": 37,
     "metadata": {},
     "output_type": "execute_result"
    }
   ],
   "source": [
    "r1 = client.get_data_at_time(pv_list, ts=its)\n",
    "r1"
   ]
  },
  {
   "cell_type": "code",
   "execution_count": 38,
   "metadata": {},
   "outputs": [],
   "source": [
    "valid_pvs = [k for k in pv_list if k in list(r.keys())]"
   ]
  },
  {
   "cell_type": "code",
   "execution_count": 39,
   "metadata": {},
   "outputs": [],
   "source": [
    "import pickle"
   ]
  },
  {
   "cell_type": "code",
   "execution_count": 40,
   "metadata": {
    "collapsed": true
   },
   "outputs": [],
   "source": [
    "data = {'results': results, 'pvs': valid_pvs, 'ts_iso': ts_list, 'ts': np.linspace(t0, t1, n_ts)}"
   ]
  },
  {
   "cell_type": "code",
   "execution_count": 41,
   "metadata": {},
   "outputs": [],
   "source": [
    "with open('data1.pkl', 'wb') as fp:\n",
    "    pickle.dump(data, fp)"
   ]
  }
 ],
 "metadata": {
  "kernelspec": {
   "display_name": "Python 3",
   "language": "python",
   "name": "python3"
  },
  "language_info": {
   "codemirror_mode": {
    "name": "ipython",
    "version": 3
   },
   "file_extension": ".py",
   "mimetype": "text/x-python",
   "name": "python",
   "nbconvert_exporter": "python",
   "pygments_lexer": "ipython3",
   "version": "3.7.3"
  }
 },
 "nbformat": 4,
 "nbformat_minor": 2
}
