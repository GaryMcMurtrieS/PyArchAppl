{
 "cells": [
  {
   "cell_type": "code",
   "execution_count": 32,
   "metadata": {},
   "outputs": [],
   "source": [
    "from archappl.client import ArchiverDataClient\n",
    "from archappl.data import epoch_to_iso, iso_to_epoch\n",
    "from phantasy import MachinePortal\n",
    "import numpy as np"
   ]
  },
  {
   "cell_type": "code",
   "execution_count": 20,
   "metadata": {},
   "outputs": [
    {
     "name": "stderr",
     "output_type": "stream",
     "text": [
      "WARNING: 2019-06-18 15:34:14,615: phantasy.library.operation.core: Load new machine: FRIB segment: LEBT\n",
      "INFO: 2019-06-18 15:34:14,617: phantasy.library.parser.config: Searching configuration in relative or absolute path: 'FRIB'\n",
      "INFO: 2019-06-18 15:34:14,618: phantasy.library.parser.config: Searching configuration under path: '/home/tong/Dropbox/FRIB/work/phantasy-project/phantasy-machines' 'FRIB'\n",
      "INFO: 2019-06-18 15:34:14,620: phantasy.library.parser.config: Importing 'FRIB' from '/home/tong/Dropbox/FRIB/work/phantasy-project/phantasy-machines/FRIB'\n",
      "INFO: 2019-06-18 15:34:14,622: phantasy.library.parser.config: Using config file: phantasy.ini\n",
      "INFO: 2019-06-18 15:34:14,700: phantasy.library.operation.lattice: Using CSV/SQLite instead of CFS '/home/tong/Dropbox/FRIB/work/phantasy-project/phantasy-machines/FRIB/./linac/all_channels.csv'\n",
      "INFO: 2019-06-18 15:34:14,701: phantasy.library.pv.datasource: Set source to be CSV table: all_channels.csv.\n",
      "INFO: 2019-06-18 15:34:14,898: phantasy.library.operation.lattice: Model data directory: /home/tong/phantasy_data/20190618/model_data/data_153414\n",
      "INFO: 2019-06-18 15:34:14,902: phantasy.library.operation.lattice: Found 981 PVs in LEBT.\n",
      "INFO: 2019-06-18 15:34:15,451: phantasy.library.operation.lattice: 'LEBT' has 82 elements\n"
     ]
    }
   ],
   "source": [
    "mp = MachinePortal(\"FRIB\", \"LEBT\")\n",
    "lat = mp.work_lattice_conf\n",
    "\n",
    "valid_dtypes = ('SOL', 'VCOR', 'HCOR', 'EQUAD',)"
   ]
  },
  {
   "cell_type": "code",
   "execution_count": 21,
   "metadata": {},
   "outputs": [],
   "source": [
    "s = {}\n",
    "for elem in lat:\n",
    "    if elem.family in valid_dtypes:\n",
    "        f = elem.get_eng_fields()[0]\n",
    "        sp_pvs = elem.pv(handle='setpoint', field=f)\n",
    "        s.update({k:100 * np.random.random() + 1 for k in sp_pvs})"
   ]
  },
  {
   "cell_type": "code",
   "execution_count": 22,
   "metadata": {},
   "outputs": [],
   "source": [
    "quad = lat.get_elements(type='EQUAD')[0]\n",
    "sol = lat.get_elements(type='SOL')[0]"
   ]
  },
  {
   "cell_type": "code",
   "execution_count": 23,
   "metadata": {},
   "outputs": [
    {
     "name": "stdout",
     "output_type": "stream",
     "text": [
      "3.5057602449582177\n",
      "61.00791797825785\n"
     ]
    }
   ],
   "source": [
    "print(quad.get_settings('V', s))\n",
    "print(sol.get_settings('I', s))"
   ]
  },
  {
   "cell_type": "markdown",
   "metadata": {},
   "source": [
    "### Read settings from snp file"
   ]
  },
  {
   "cell_type": "code",
   "execution_count": 24,
   "metadata": {},
   "outputs": [],
   "source": [
    "snpfile = '/home/tong/Dropbox/FRIB/work/phantasy-project/phantasy-apps/phantasy_apps/settings_manager/testdata/Ar_LEBT_to_MEBT_20180321.snp'"
   ]
  },
  {
   "cell_type": "code",
   "execution_count": 25,
   "metadata": {},
   "outputs": [],
   "source": [
    "from phantasy import generate_settings\n",
    "from phantasy import snp2dict"
   ]
  },
  {
   "cell_type": "code",
   "execution_count": 8,
   "metadata": {},
   "outputs": [],
   "source": [
    "settings = generate_settings(snpfile, lat, only_physics=False)"
   ]
  },
  {
   "cell_type": "code",
   "execution_count": 9,
   "metadata": {},
   "outputs": [],
   "source": [
    "settings.write('/tmp/settings2.json')"
   ]
  },
  {
   "cell_type": "code",
   "execution_count": 10,
   "metadata": {},
   "outputs": [],
   "source": [
    "from phantasy import get_element_settings"
   ]
  },
  {
   "cell_type": "code",
   "execution_count": 16,
   "metadata": {},
   "outputs": [
    {
     "data": {
      "text/plain": [
       "{'B': -0.027918183210821942, 'I': 9.660271007204823}"
      ]
     },
     "execution_count": 16,
     "metadata": {},
     "output_type": "execute_result"
    }
   ],
   "source": [
    "get_element_settings(s, sol, only_physics=False)"
   ]
  },
  {
   "cell_type": "code",
   "execution_count": 17,
   "metadata": {},
   "outputs": [],
   "source": [
    "settings_dict = snp2dict(snpfile=snpfile)"
   ]
  },
  {
   "cell_type": "code",
   "execution_count": 13,
   "metadata": {},
   "outputs": [
    {
     "data": {
      "text/plain": [
       "3072.0"
      ]
     },
     "execution_count": 13,
     "metadata": {},
     "output_type": "execute_result"
    }
   ],
   "source": [
    "quad.get_settings('V', settings_dict)"
   ]
  },
  {
   "cell_type": "code",
   "execution_count": 14,
   "metadata": {},
   "outputs": [
    {
     "data": {
      "text/plain": [
       "3072.0"
      ]
     },
     "execution_count": 14,
     "metadata": {},
     "output_type": "execute_result"
    }
   ],
   "source": [
    "quad.get_settings('V', settings_dict)"
   ]
  },
  {
   "cell_type": "code",
   "execution_count": 18,
   "metadata": {},
   "outputs": [
    {
     "data": {
      "text/plain": [
       "{'V': 2.4933180597827516}"
      ]
     },
     "execution_count": 18,
     "metadata": {},
     "output_type": "execute_result"
    }
   ],
   "source": [
    "get_element_settings(s, quad, only_physics=False)"
   ]
  },
  {
   "cell_type": "markdown",
   "metadata": {},
   "source": [
    "### Read settings from AA"
   ]
  },
  {
   "cell_type": "code",
   "execution_count": 27,
   "metadata": {},
   "outputs": [],
   "source": [
    "pv_set = set()\n",
    "for elem in lat:\n",
    "    if elem.family in valid_dtypes:\n",
    "        pv_set.update(elem.pv(handle='setpoint'))"
   ]
  },
  {
   "cell_type": "code",
   "execution_count": 31,
   "metadata": {},
   "outputs": [],
   "source": [
    "client = ArchiverDataClient()\n",
    "client.url = \"http://epicsarchiver0.ftc:17668\""
   ]
  },
  {
   "cell_type": "code",
   "execution_count": null,
   "metadata": {},
   "outputs": [],
   "source": [
    "ts_iso = \"2019-03-05T13:04:08.120000-05:00\"\n",
    "client.get_data_at_time(pv_set, ts=ts_iso)"
   ]
  }
 ],
 "metadata": {
  "kernelspec": {
   "display_name": "Python 3",
   "language": "python",
   "name": "python3"
  },
  "language_info": {
   "codemirror_mode": {
    "name": "ipython",
    "version": 3
   },
   "file_extension": ".py",
   "mimetype": "text/x-python",
   "name": "python",
   "nbconvert_exporter": "python",
   "pygments_lexer": "ipython3",
   "version": "3.6.8"
  }
 },
 "nbformat": 4,
 "nbformat_minor": 2
}
