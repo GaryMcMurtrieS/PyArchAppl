{
 "cells": [
  {
   "cell_type": "code",
   "execution_count": 1,
   "metadata": {
    "collapsed": false
   },
   "outputs": [
    {
     "name": "stderr",
     "output_type": "stream",
     "text": [
      "WARNING: 2019-06-07 12:10:29,278: phantasy.library.scan: Package 'scanclient' does not exit, some features may not be available.\n"
     ]
    }
   ],
   "source": [
    "from archappl.client import ArchiverDataClient\n",
    "from phantasy import MachinePortal\n",
    "from datetime import datetime"
   ]
  },
  {
   "cell_type": "code",
   "execution_count": 2,
   "metadata": {
    "collapsed": false
   },
   "outputs": [
    {
     "name": "stderr",
     "output_type": "stream",
     "text": [
      "WARNING: 2019-06-07 12:10:29,549: phantasy.library.operation.core: Load new machine: FRIB segment: MEBT2FS1A\n",
      "INFO: 2019-06-07 12:10:29,551: phantasy.library.parser.config: Searching configuration in relative or absolute path: 'FRIB'\n",
      "INFO: 2019-06-07 12:10:29,551: phantasy.library.parser.config: Searching configuration under path: '/usr/lib/phantasy-machines' 'FRIB'\n",
      "INFO: 2019-06-07 12:10:29,552: phantasy.library.parser.config: Importing 'FRIB' from '/usr/lib/phantasy-machines/FRIB'\n",
      "INFO: 2019-06-07 12:10:29,554: phantasy.library.parser.config: Using config file: phantasy.ini\n",
      "INFO: 2019-06-07 12:10:29,627: phantasy.library.operation.lattice: Using CSV/SQLite instead of CFS '/usr/lib/phantasy-machines/FRIB/./mebt2fs1a/channels.csv'\n",
      "INFO: 2019-06-07 12:10:29,628: phantasy.library.pv.datasource: Set source to be CSV table: channels.csv.\n",
      "INFO: 2019-06-07 12:10:29,709: phantasy.library.operation.lattice: Model data directory: /user/zhangt/phantasy_data/20190607/model_data/data_4n4r__ut\n",
      "INFO: 2019-06-07 12:10:29,717: phantasy.library.operation.lattice: Found 2161 PVs in MEBT2FS1A.\n",
      "INFO: 2019-06-07 12:10:30,943: phantasy.library.operation.lattice: 'MEBT2FS1A' has 413 elements\n"
     ]
    }
   ],
   "source": [
    "mp = MachinePortal(\"FRIB\", \"MEBT2FS1A\")\n",
    "bpms = mp.get_elements(type=\"BPM\")\n",
    "client = ArchiverDataClient()\n",
    "client.url = \"http://epicsarchiver0.ftc:17668\""
   ]
  },
  {
   "cell_type": "code",
   "execution_count": 3,
   "metadata": {
    "collapsed": true
   },
   "outputs": [],
   "source": [
    "pvs_x = [i.pv('X', handle='readback')[0] for i in bpms]\n",
    "pvs_y = [i.pv('Y', handle='readback')[0] for i in bpms]"
   ]
  },
  {
   "cell_type": "code",
   "execution_count": 4,
   "metadata": {
    "collapsed": false
   },
   "outputs": [],
   "source": [
    "ts0 = \"2019-03-05T13:04:08.120000\"\n",
    "dt = datetime.strptime(ts0, \"%Y-%m-%dT%H:%M:%S.%f\")"
   ]
  },
  {
   "cell_type": "code",
   "execution_count": 5,
   "metadata": {
    "collapsed": false
   },
   "outputs": [],
   "source": [
    "ts0_epoch = dt.timestamp()"
   ]
  },
  {
   "cell_type": "code",
   "execution_count": 6,
   "metadata": {
    "collapsed": false
   },
   "outputs": [],
   "source": [
    "_ts0 = datetime.fromtimestamp(ts0_epoch).isoformat() + \"-05:00\""
   ]
  },
  {
   "cell_type": "code",
   "execution_count": 7,
   "metadata": {
    "collapsed": false
   },
   "outputs": [
    {
     "name": "stdout",
     "output_type": "stream",
     "text": [
      "2019-03-05T13:04:08.120000-05:00\n"
     ]
    }
   ],
   "source": [
    "print(_ts0)"
   ]
  },
  {
   "cell_type": "code",
   "execution_count": 8,
   "metadata": {
    "collapsed": false
   },
   "outputs": [],
   "source": [
    "r = client.get_data_at_time([pvs_x[0]], ts=_ts0)"
   ]
  },
  {
   "cell_type": "code",
   "execution_count": 9,
   "metadata": {
    "collapsed": false
   },
   "outputs": [
    {
     "data": {
      "text/plain": [
       "{'FE_MEBT:BPM_D1056:XPOS_RD': {'nanos': 4464964,\n",
       "  'secs': 1551809048,\n",
       "  'severity': 0,\n",
       "  'status': 0,\n",
       "  'val': -0.944449345999152}}"
      ]
     },
     "execution_count": 9,
     "metadata": {},
     "output_type": "execute_result"
    }
   ],
   "source": [
    "r"
   ]
  },
  {
   "cell_type": "code",
   "execution_count": 10,
   "metadata": {
    "collapsed": false
   },
   "outputs": [
    {
     "data": {
      "text/plain": [
       "[Data Client] Archiver Appliance on: http://epicsarchiver0.ftc:17668/retrieval/data/getData.json"
      ]
     },
     "execution_count": 10,
     "metadata": {},
     "output_type": "execute_result"
    }
   ],
   "source": [
    "client"
   ]
  },
  {
   "cell_type": "code",
   "execution_count": 11,
   "metadata": {
    "collapsed": true
   },
   "outputs": [],
   "source": [
    "from archappl.client import ArchiverMgmtClient"
   ]
  },
  {
   "cell_type": "code",
   "execution_count": 12,
   "metadata": {
    "collapsed": true
   },
   "outputs": [],
   "source": [
    "admin_client = ArchiverMgmtClient()\n",
    "admin_client.url = \"http://epicsarchiver0.ftc:17665\""
   ]
  },
  {
   "cell_type": "code",
   "execution_count": 13,
   "metadata": {
    "collapsed": false,
    "scrolled": true
   },
   "outputs": [
    {
     "data": {
      "text/plain": [
       "[Admin Client] Archiver Appliance on: http://epicsarchiver0.ftc:17665/mgmt/bpl"
      ]
     },
     "execution_count": 13,
     "metadata": {},
     "output_type": "execute_result"
    }
   ],
   "source": [
    "admin_client"
   ]
  },
  {
   "cell_type": "markdown",
   "metadata": {},
   "source": [
    "# range"
   ]
  },
  {
   "cell_type": "code",
   "execution_count": 14,
   "metadata": {
    "collapsed": true
   },
   "outputs": [],
   "source": [
    "def iso_to_epoch(s,):\n",
    "    # return datetime.timestamp, and string of timezone (e.g.-05:00)\n",
    "    ts, tz = s[:-6], s[-6:]\n",
    "    dt = datetime.strptime(ts, \"%Y-%m-%dT%H:%M:%S.%f\")\n",
    "    return dt.timestamp(), tz"
   ]
  },
  {
   "cell_type": "code",
   "execution_count": 15,
   "metadata": {
    "collapsed": true
   },
   "outputs": [],
   "source": [
    "def epoch_to_iso(ts, tz='-05:00'):\n",
    "    return datetime.fromtimestamp(ts).isoformat() + tz"
   ]
  },
  {
   "cell_type": "code",
   "execution_count": 16,
   "metadata": {
    "collapsed": true
   },
   "outputs": [],
   "source": [
    "ts0_iso = \"2019-03-05T13:04:08.120000-05:00\"\n",
    "ts0_epoch, tz = iso_to_epoch(ts0_iso)"
   ]
  },
  {
   "cell_type": "code",
   "execution_count": 17,
   "metadata": {
    "collapsed": false
   },
   "outputs": [
    {
     "data": {
      "text/plain": [
       "1551809048.12"
      ]
     },
     "execution_count": 17,
     "metadata": {},
     "output_type": "execute_result"
    }
   ],
   "source": [
    "ts0_epoch"
   ]
  },
  {
   "cell_type": "code",
   "execution_count": 18,
   "metadata": {
    "collapsed": false
   },
   "outputs": [
    {
     "name": "stdout",
     "output_type": "stream",
     "text": [
      "2019-03-05T12:47:28.120000-05:00 2019-03-05T13:20:48.120000-05:00\n"
     ]
    }
   ],
   "source": [
    "delt_sec = 1000\n",
    "t0 = ts0_epoch - delt_sec\n",
    "t1 = ts0_epoch + delt_sec\n",
    "ts_begin = epoch_to_iso(t0)\n",
    "ts_end = epoch_to_iso(t1)\n",
    "print(ts_begin, ts_end)"
   ]
  },
  {
   "cell_type": "code",
   "execution_count": 19,
   "metadata": {
    "collapsed": true
   },
   "outputs": [],
   "source": [
    "import numpy as np"
   ]
  },
  {
   "cell_type": "code",
   "execution_count": 79,
   "metadata": {
    "collapsed": false
   },
   "outputs": [],
   "source": [
    "pv_list = pvs_x[0::1]\n",
    "n_ts = 200\n",
    "n_elem = len(pv_list)\n",
    "ts_list = [epoch_to_iso(i, tz) for i in np.linspace(t0, t1, n_ts)]\n",
    "m = []\n",
    "#m = np.zeros([n_ts, n_elem])"
   ]
  },
  {
   "cell_type": "code",
   "execution_count": 80,
   "metadata": {
    "collapsed": false
   },
   "outputs": [],
   "source": [
    "for i, its in enumerate(ts_list):\n",
    "    r = client.get_data_at_time(pv_list, ts=its)\n",
    "    m.append([r[pv]['val'] for pv in pv_list if pv in r])"
   ]
  },
  {
   "cell_type": "code",
   "execution_count": 81,
   "metadata": {
    "collapsed": false
   },
   "outputs": [],
   "source": [
    "results = np.array(m)"
   ]
  },
  {
   "cell_type": "code",
   "execution_count": 82,
   "metadata": {
    "collapsed": false
   },
   "outputs": [],
   "source": [
    "valid_pvs = [k for k in pv_list if k in list(r.keys())]"
   ]
  },
  {
   "cell_type": "code",
   "execution_count": 83,
   "metadata": {
    "collapsed": false
   },
   "outputs": [],
   "source": [
    "import pickle"
   ]
  },
  {
   "cell_type": "code",
   "execution_count": 84,
   "metadata": {
    "collapsed": true
   },
   "outputs": [],
   "source": [
    "data = {'results': results, 'pvs': valid_pvs, 'ts_iso': ts_list, 'ts': np.linspace(t0, t1, n_ts)}"
   ]
  },
  {
   "cell_type": "code",
   "execution_count": 85,
   "metadata": {
    "collapsed": false
   },
   "outputs": [],
   "source": [
    "with open('data.pkl', 'wb') as fp:\n",
    "    pickle.dump(data, fp)"
   ]
  },
  {
   "cell_type": "code",
   "execution_count": null,
   "metadata": {
    "collapsed": true
   },
   "outputs": [],
   "source": []
  }
 ],
 "metadata": {
  "kernelspec": {
   "display_name": "Python 3",
   "language": "python",
   "name": "python3"
  },
  "language_info": {
   "codemirror_mode": {
    "name": "ipython",
    "version": 3
   },
   "file_extension": ".py",
   "mimetype": "text/x-python",
   "name": "python",
   "nbconvert_exporter": "python",
   "pygments_lexer": "ipython3",
   "version": "3.5.3"
  }
 },
 "nbformat": 4,
 "nbformat_minor": 2
}
